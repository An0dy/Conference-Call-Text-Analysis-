{
 "cells": [
  {
   "cell_type": "markdown",
   "metadata": {},
   "source": [
    "# Processing Earnings Conference Calls\n",
    "Jessen Hobson, Associate Professor, University of Illinois at Urbana-Champaign <br>\n",
    "Version 03.05"
   ]
  },
  {
   "cell_type": "code",
   "execution_count": 1,
   "metadata": {},
   "outputs": [],
   "source": [
    "# for data manipulation\n",
    "import pandas as pd"
   ]
  },
  {
   "cell_type": "code",
   "execution_count": 2,
   "metadata": {
    "scrolled": true
   },
   "outputs": [
    {
     "name": "stderr",
     "output_type": "stream",
     "text": [
      "[nltk_data] Downloading package wordnet to C:\\Users\\King\n",
      "[nltk_data]     Andy\\AppData\\Roaming\\nltk_data...\n",
      "[nltk_data]   Package wordnet is already up-to-date!\n"
     ]
    }
   ],
   "source": [
    "# for text manipulation\n",
    "import re \n",
    "# for data processing\n",
    "import nltk\n",
    "nltk.download('wordnet')\n",
    "from nltk import word_tokenize\n",
    "from nltk import FreqDist\n",
    "# for graphing (used with NLTK)\n",
    "import matplotlib.pyplot as plt\n",
    "# for lemmatization - uses NLTK's lemmatize that was built from Wordnet (large lexical database of English words)\n",
    "from nltk.stem import WordNetLemmatizer\n",
    "# set display options\n",
    "pd.set_option('max_rows', 900)\n",
    "pd.set_option('max_colwidth', -1) # maximum width\n",
    "pd.set_option('max_columns', 20)\n",
    "# Supress unneeded Pandas warnings\n",
    "pd.options.mode.chained_assignment = None  # default='warn'"
   ]
  },
  {
   "cell_type": "markdown",
   "metadata": {},
   "source": [
    "# 0.0 Learning Objectives"
   ]
  },
  {
   "cell_type": "markdown",
   "metadata": {},
   "source": [
    "Key skills examined in this case:\n",
    "* Natural Language Processing Skills Explored\n",
    "    * pre-processing and noise reduction\n",
    "    * tokenization\n",
    "    * lemmatization\n",
    "    * keyword extraction\n",
    "    * sentiment extraction\n",
    "    * latent topic extraction (discussed only)\n",
    "* Accounting skills\n",
    "    * familiarity with corporate communications\n",
    "    * role of earnings conference calls\n",
    "    * familiarity with analysts' methods of probing executives\n",
    "* Python Skills\n",
    "    * data manipulation in the Pandas library\n",
    "    * descriptive statistics in the Pandas library\n",
    "        * `groupby`\n",
    "    * `list comprehensions`\n",
    "    * function definitions\n",
    "        * function use via `.apply()` in Pandas\n",
    "    * `for loops`\n",
    "    * text specific\n",
    "        * string processing methods in Pandas\n",
    "        * applications of regex to pre-process text\n",
    "        * word tokenization using the Natural Language Toolkit (NLTK)\n",
    "        * word lemmatization using NLTK\n",
    "        * sentiment extraction using a bag of words approach\n",
    "        * topic extraction using Latent Dirichlet Allocation (LDA) with the genism (discussed only)"
   ]
  },
  {
   "cell_type": "markdown",
   "metadata": {},
   "source": [
    "# 1.0 Earnings Conference Calls Background"
   ]
  },
  {
   "cell_type": "markdown",
   "metadata": {},
   "source": [
    "Public companies in the US host earnings calls (via teleconference or webcast) each quarter, shortly after disclosing their quarterly or yearend financial information (earnings press release). Earnings calls are publicly available and are of most interest to current investors, potential investors, equity analysts, external auditors, and business journalists. \n",
    "\n",
    "Earnings calls include two components: prepared remarks from the company's executives (typically the Chief Executive Officer, the Chief Financial Officer and Director of Investor Relations at a minimum) and a question and answer session with company executives. Companies can allow the Q&A portion to be open to any participants but typically this is limited to select, invited equity analysts. In the company’s prepared remarks, management typically provides earnings guidance and announcements. These remarks can include forward-looking statements and discussion of non-GAAP measures as well. These prepared remarks are always scripted and rehearsed. On the other hand, the question and answer portion of the earnings conference call is less scripted and thus, potentially more useful listeners interested in learning more about the company.\n",
    "\n",
    "Audio and/or transcripts of a company’s earnings calls can typically be found on the company’s investor relations website. (Successful searches might include the company’s ticker and the following words: earnings, conference, call, and transcript.) Therefore, this unstructured data is publicly available for analysis. "
   ]
  },
  {
   "cell_type": "markdown",
   "metadata": {},
   "source": [
    "**Deliverable 1:** Pick 1 earnings conference call transcript that has not already been picked on this spreadsheet: https://docs.google.com/spreadsheets/d/19TKLMB1nYyobZ--5WmWmYaonDrp_0HPFjam0GmtClH4/edit?usp=sharing. Mark the spreadsheet for the one you pick so that no one else will pick it. Next, copy and paste the text from the transcript to this website so we can use it again next year: https://uiuc.qualtrics.com/jfe/form/SV_1NfIjF6a2QWuu7b. Carefully follow all the instructions on that website and input all information. (For extra karma and love ***AND for 5 extra points for your group***, pick and upload 20 more to the website. Indicate below if you have done this.) \n",
    "\n",
    "Next, take the text from ***just the Question and Answer portion*** of the conference call and create a string in our Jupyter notebook called `qa_text`. Hint: Use the triple quote marks (`'''`) to put in the large text. "
   ]
  },
  {
   "cell_type": "code",
   "execution_count": 3,
   "metadata": {},
   "outputs": [],
   "source": [
    "# Deliverable 1 Response:\n",
    "qa_text = '''\n",
    "Questioner 1 Q1: [I&SS segment] Regarding the upward revision to guidance for the I&SS segment, which was the greater driver, volume upside or product mix improvement? A1: As in the 2nd Quarter, we believe contributions from volume and product mix improvement were roughly the same. Q2: [I&SS segment] You revised down the outlook for fixed asset growth somewhat. Is this due to improved investment efficiency or some other factor? A2: The change reflects our view that improvements in efficiency will allow us to reach our desired levels of capacity without the degree of investment we had initially anticipated. Questioner 2 Q1: [I&SS segment] You mentioned your lack of optimism about the competitive environment for the I&SS segment in FY2020, but it seems that supply/demand conditions in the industry are still good, so how much of a risk do you actually see? A1: It is difficult to answer in numerical terms, but based on our initial outlook, we made plans to build up strategic inventory in the 4th Quarter in anticipation of very strong demand in 1H FY2020 given how much production capacity we have by comparison. However, we will have to ship, during this fiscal year, almost all of the strategic inventory we planned to build for FY2020, raising the issue of whether we can sufficiently meet demand in FY2020. In addition, 0.8-micron image sensors, which have contributed significantly to FY2019 earnings, will be entering their second year of mass production, so we expect our competitors will catch up to some degree and put pressure on prices. These are the main risks, but it goes without saying that because we have yet to factor in any potential impact from the coronavirus outbreak, we will need to reflect that, too, pending further research, etc. Q2: [G&NS segment] In the game business, what was the degree of contraction in free-to-play games in the 3rd Quarter in comparison with the 1st Quarter and the 2nd Quarter, and, looking ahead to FY2020, should we expect the weakness in free-to-play games to have run its course by the end of FY2019? A2: Most of the sharp decline in third-party software is in free-to-play titles. Other software titles in our library of new and existing games are roughly flat YoY, so this highlights the difficulty in predicting trends in free-to-play titles. In other areas, there were not many variances, so we would like to improve the accuracy of our forecasting here. Questioner 3 Q1: [G&NS segment] Regarding the game business, until now I was under the impression from previous presentations that PlayStation Plus subscriptions tend to grow when triggered by the launch of a major title or other catalyst, suggesting this would be a difficult quarter. However, subscriptions went up despite the fact that software sales were not very strong. What is your take on that, and what are your expectations for subscriber numbers looking ahead to the next-generation console? A1: It is a process of trial and error when it comes to securing stable growth in PlayStation Plus subscribers and retaining them more efficiently. As you know, as a part of the price revisions we implemented in August, we made an annual subscription more affordable with the intention of increasing the number of long-term stable users. Also, we included several incentives with the annual subscription such as online multiplayer gaming, free access to some PS4 titles, 100GB of storage for PS4 game saves, and exclusive subscriber discounts. We believe this made more users appreciate the value of the subscription. The number of subscribers tends to increase in the 3rd Quarter every fiscal year, but we would like to achieve more stable growth by inviting users to experience and appreciate these services. Looking ahead to the next-generation console, we aim to increase subscriber numbers as much as possible. There is very little I can disclose about the new console as of yet, but I look forward to sharing more at some point in FY2020 when we are prepared with more details. Q2: [G&NS segment] The FY2020 earnings outlook for the game business is a frequent topic of discussion in the market given that the PS5 is to be launched for the 2020 holiday season. What are your thoughts, if any, on what would happen if we were to reach the end of April, when the earnings outlook is usually disclosed, and the price of the PS5 had still not been revealed? A2: It is still difficult to discuss that at this time, but what I can say is that at present we plan to deliver our earnings outlook at the same time as usual. Questioner 4 Q1: [EP&S segment] The implied 4th Quarter operating income outlook for the EP&S segment is for a substantial loss judging by your full-year operating income outlook. Broken down into the four main product categories, what are your assumptions regarding sales trends/levels, and what nature and size of non-recurring costs are you expecting? Also, how much of a profit improvement can the EP&S segment deliver in FY2020, including from the disappearance of non-recurring costs? A1: Numerically, guidance does imply a 4th Quarter operating loss in the EP&S segment, but as I touched upon in my speech just now, we are expecting to post one-time restructuring costs in the Mobile Communications business, the impact of which is likely to be very significant. However, we are looking closely from various perspectives into how much this can be minimized, and we aim to keep costs as low as possible. We are not expecting anything outside the bounds of ordinary seasonality at present in the other product categories. 3rd Quarter inventory, as I just mentioned, was also kept very much within appropriate levels. At our previous results briefing, we talked about plans to launch some new products in our TV range in the 4th Quarter and, as of now, those plans remain unchanged. However, if concerns regarding the Chinese supply chain were to come to fruition, there is a risk of delays in ramping up some of the products. Q2: [EP&S segment] Can we assume that these one-off factors will disappear in FY2020 and profit will increase? A2: We have yet to put together our targets for FY2020, but our intention is to make a positive start to FY2020 without any negative hangover from past years, and to that end, we will continue to keep firm control on inventory and make solid manufacturing and marketing plans. Q3: [EP&S segment] If approximately 13 billion yen, the remainder of your restructuring budget to be recognized in the 4th Quarter, is incurred in Mobile Communications, you still would have a loss of 35.8 billion yen for the wider EP&S segment. Is that correct? A3: You can assume something along the lines of your analysis, but please understand that we are not disclosing a detailed breakdown. Q4: [G&NS segment] In the game business, I understand that third-party software sales were not good, but what about first-party titles? A4: I am unable to give you a quantitative answer as to how our results differed from our expectations, but I will give you a general impression. We were not able to meet our assumptions for catalog titles in the case of third-party full-length games or for first-party full-length games in general as those expectations were somewhat ambitious. Results in the PlayStation Plus business and elsewhere were more or less as expected. Questioner 5 Q1: [I&SS segment] Where did production capacity stand at the end of the quarter in the I&SS segment? Also, what were wafer inputs and what do you expect inputs will be going forward? A1: Available monthly capacity was roughly 115,000 as of the end of the 3rd Quarter. We had previously assumed 117,000, so this was down slightly. This is due to slight deviations resulting from factors including process mix and is not because we are behind on building out capacity. We expect capacity to be at 124,000 at the end of the 4th Quarter. As for inputs, we were at full capacity in the 3rd Quarter and expect to be at full capacity again in the 4th Quarter. Q2: [Pictures segment] You mentioned having built up your franchises in the Motion Picture business. Could you share your thinking on the investments you undertook in the 3rd Quarter? Your deal with the production company for Peter Rabbit seems to be in line with your current approach, but your investment in the Game Show Network is of a somewhat different nature. Given that you are undertaking a review of unprofitable channels, could you comment on the intent behind that investment? A2: We acquired the 42% stake AT&T had held in the Game Show Network and made it a wholly owned subsidiary. We had previously held a 58% stake. The Game Show Network is a multimedia entertainment company that distributes game shows, including original programming, via cable television in the U.S. A company under its umbrella called GSN Games also offers online and mobile games. Our thinking was that this business unit had potential from a variety of perspectives, so when presented with the opportunity, we increased our stake to 100% in order to be able to make strategic decisions with greater flexibility. Silvergate Media is a company that develops and produces animation for children and also engages in licensing. It produces seven titles for SVOD and cable television. The objective of our investment was to acquire high-quality original IP and creative talent. We have seen this as an extremely attractive category for some time, and when this acquisition opportunity presented itself amidst various dialogues we were having, we acted and made our decision quickly. Questioner 6 Q1: [I&SS segment] You mentioned a better mix and higher volumes in the I&SS segment in the 3rd Quarter. Could you tell us about the per-wafer sales momentum? It seems to have increased considerably in the 2nd Quarter. Is it fair to say it increased by a similar amount in the 3rd Quarter? Inventory fluctuations meanwhile seem to be a negative for profits this year. Could you share any quantitative data you have on that? A1: Per-wafer sales momentum ends up being a discussion of the unit price per wafer, which is not something we disclose, so I will refrain from any quantitative commentary. Making larger sensors reduces the theoretical yield per wafer, which diminishes production yields. Therefore, the average price per sensor needs to be enough to offset that or it will not be possible to maintain the unit price per wafer. As such, in order to correctly maintain the momentum of per-wafer sales or pricing, we need to be certain we are supplying a high added-value product and improve our production yields, or ensure that new products get off the ground as smoothly as possible. These things enable differentiation and we therefore want to continue to focus our efforts on them. On the question of how inventory fluctuations impact profits, we saw a 7.8 billion yen decline in inventory between the 2nd Quarter and the 3rd Quarter, which was a negative for profits. I believe that the decline reduced profits by 10 billion yen or more on a YoY basis. Q2: [G&NS segment] In striving for a “smooth transition” in the G&NS segment in FY2020, could you describe to the extent possible where you have visibility and where you lack visibility in terms of, for example, development or marketing costs you might be able to control, or things that remain uncertain regarding pricing or volumes perhaps? A2: Firstly, we believe that we absolutely have to control our bill of materials cost. This ends up being a question of what we recognize as costs and is a point over which we must exercise control. Then there is our initial ramp-up. Our manufacturing and marketing efforts need to be solid so that we can determine how many units we need, and then produce the appropriate volume. Given that we compete on price, it is extremely difficult to comment at present on where we lack visibility. In addition, pricing also determines the nature of our promotion efforts and how much we spend because of the balance that needs to be struck, so it is difficult to comment on all of that at this point in time. In terms of making the transition as smooth as possible, we are engaged in ongoing discussions based on our belief that we should devise the best-balanced approach that enables us to ensure that the next-generation console is profitable over the course of its life. Questioner 7 Q1: [I&SS segment] What sort of contribution should we expect from products other than image sensors in the I&SS segment in FY2020 and beyond? A1: That would be sensing inclusive of industrial equipment, factory automation, automotive, and ToF applications. We have said for some time that we want to bring the proportion of products other than image sensors for mobile applications to around 30% by 2025. We have not made any particular changes to that objective and are doing what we need to toward that end. In the short term, our ToF sensors for mobile applications are getting off to a smooth start, so I believe that we will be able to tell you in FY2020 or thereafter what percentage of the business they will likely come to represent. We do not need to invest any capex specifically for ToF sensors, so we see them as having substantial potential. We also believe that we can derive an appropriate level of profit margin from them. Q2: You said that you will be able to increase input without investing as much as you had anticipated. Is there any change in the 700 billion yen figure under your mid-range plan, including in terms of how much outsourcing you intend to use? A2: We have been able to achieve a 15-billion-yen reduction in FY2019 thanks to greater investment efficiency. However, at present we do not expect any major change in our plan to spend 700 billion yen over the timeframe covered by the mid-range plan. The fiscal year ending March 31, 2022 will be the year that we release our next mid-range plan covering 2021-2023, so I believe we will be able to share our thinking on investment over that three-year span at that time. Questioner 8 Q1: [I&SS segment] How is inventory in the I&SS segment likely to change in the 4th Quarter? That likely depends on demand, but could you comment on the general direction? It seems business was extremely brisk in the 3rd Quarter, but with a slight downshift in customer demand underway, do you think that, excluding the impact from the coronavirus outbreak, there will be so much demand in January-March and April-June that you will not be able to produce enough even at full capacity? A1: Our original intention for the 4th Quarter was to build up strategic inventory for 1H FY2020. Thereafter, customer demand became so strong that it proved difficult to engage in strategic stockpiling, and we had no choice but to keep shipping what we had. I am not certain how meaningful it would be to try to describe our expectations exclusive of the impact from the coronavirus, but we believe that we may see some instances of slower demand. Taking all of this into account, we believe that 4th Quarter inventory may not change much, increasing only slightly versus the 3rd Quarter. That said, we have not collected enough information to say anything definitive. Q2: [I&SS segment] What is your output plan for January-March? A2: We do not disclose output plans, but our production lead time is 5-6 months, so please deduce what you can from that. Cautionary Statement: Please be aware that, in the summary above, statements made with respect to Sony‘s current plans, estimates, strategies and beliefs and other statements that are not historical facts are forward-looking statements about the future performance of Sony. Forward-looking statements include, but are not limited to, those statements using words such as “believe,” “expect,” “plans,” “strategy,” “prospects,” “forecast,” “estimate,” “project,” “anticipate,” “aim,” “intend,” “seek,” “may,” “might,” “could” or “should,” and words of similar meaning in connection with a discussion of future operations, financial performance, events or conditions. These statements are based on management’s assumptions, judgments and beliefs in light of the information currently available to it. Sony cautions investors that a number of important risks and uncertainties could cause actual results to differ materially from those discussed in the forward-looking statements, and, therefore, you should not place undue reliance on them. Investors also should not rely on any obligation of Sony to update or revise any forward-looking statements, whether as a result of new information, future events or otherwise. Sony disclaims any such obligation. For additional information as to risks and uncertainties, as well as other factors, that could cause actual results to differ from those discussed in the forward-looking statements, please refer to Sony’s most recent Form 20-F, which is on file with the U.S. Securities and Exchange Commission.\n",
    "'''"
   ]
  },
  {
   "cell_type": "markdown",
   "metadata": {},
   "source": [
    "### Our group did the 20 conference calls for extra credit ###"
   ]
  },
  {
   "cell_type": "markdown",
   "metadata": {},
   "source": [
    "**Deliverable 2:** Take on the role of either (i) a potential investor or (ii) an external auditor of the company that you picked. Read through the question and answer portion of the conference call that you have captured and answer the following questions using one or two sentences each:\n",
    "* (A) What are some of the words that are frequently used in the conference call? Would it be important to pay attention to and take note of these words from your point of view as an auditor or investor? Why?\n",
    "* (B) What are some of the unique, rare, or infrequently used words in the conference call? Would it be important to pay attention to and take note of these words from your point of view as an auditor or investor? Why?\n",
    "* (C) What is the general sentiment of analysts and managers in this company during this earnings conference call? In other words, what is the sentiment of analysts and managers? Would it be important to pay attention to and take note of the sentiment from your point of view as an auditor or investor? Why? (For example, see https://onlinelibrary.wiley.com/doi/full/10.1111/j.1540-6261.2011.01705.x, https://www.sciencedirect.com/science/article/abs/pii/S0378426611002901#!; etc.)\n",
    "* (D) What are some of the most important topics that are being discussed in the conference call? Would it be important to pay attention to and take note of these topics from your point of view as an auditor or investor? Why?"
   ]
  },
  {
   "cell_type": "markdown",
   "metadata": {},
   "source": [
    "# Deliverable 2 Response:\n",
    "A) Some words that are frequently used in the conference call of Sony are statements that are forward looking such as \"believe\", \"plan\", \"improve\", \"forecast\",\"new\", and \"anticipate\". From an investor standpoint, it would be important to make note of these words because it is important for a company to use language that indicates they are forward looking and intend to be in business for a long time. It is also important from an investor standpoint to see that Sony is looking to innovate and continuously improve and create new products and systems, especially in such a lucrative industry.\n",
    " \n",
    "B) A unique and rare word found in the Q&A portion is \"differentiation\". As an investor, it is definitely important to take note of this word because it indicates how Sony feels they can differentiate from the other competitors, which makes Sony a unique company. Sony also used the work \"free\" in the Q&A portion when talking about their free-to-play games. This was also something important for a potential investor to note because this word indicates that there is a sector of Sony that does not require their customers to pay, which indicates that there will not be any profit will be made from the segment.\n",
    " \n",
    "C) The general sentiment that the managers and analysts presented were overall positive. Although there were definitely questioners that questioned certain decisions Sony had made and were going to make, each person who answered was able to defend the decisions made by the company and continued to use forward looking statements. There were many questions that had vague answers provided, but overall a positive sentiment was used. From an investor standpoint, it is definitely important to see the sentiment of the conference call because it indicates how the managers feel about the company's future and whether it will continue to be profitable or not. The overall sentiment is also a representation of Sony's management itself, and whether they establish a positive tone that is emphasized for all their employees to have as well. Potential investors want to invest in companies that also have good employee satisfaction because it plays an important factor in a company’s success\n",
    " \n",
    "D)Some important topics that were discussed were about the revision and guidance about the I&SS (Imaging & Sensing Solutions) segment and management's outlook on the segment. Many other questions were also about Sony's videogame systems and their media entertainment subsidiary they own and whether they see those sales continuing to grow. From the point of an investor, especially in a technology and product innovation company, it is important that the company an investor is thinking about potentially investing in is continuously looking to innovate and release more products to continue to be profitable and relevant to consumers. It shows that they want to grow each quarter and continue to be a top competitor in the industry.\n"
   ]
  },
  {
   "cell_type": "markdown",
   "metadata": {},
   "source": [
    "# 2.0 Natural Language Processing (NLP) Background"
   ]
  },
  {
   "cell_type": "markdown",
   "metadata": {},
   "source": [
    "Your answers to these questions are necessarily subjective and depend upon your ability to subjectively take note of these factors. Thus, your answers to these questions are unique to you and might be rather different from someone else’s answers. Next, we will use natural language processing to analyze the text of this conference call and start to get some more systematic and objective answers to the questions above. \n",
    "\n",
    "What is Natural Language Processing? <br>\n",
    "Natural language processing (NLP) is the intersection of several fields concerned with machines processing text and language data. Some of the applications of NLP that you have probably been most impacted by include the following:\n",
    "* Machine translation, such as Google Translate (https://translate.google.com/)\n",
    "* Speech recognition, such as Apple's Siri and Amazon's Alexa\n",
    "* Chatbots, such as Insomnobot - 3000 (http://insomnobot3000.com/) \n",
    "You have probably experienced the power of these applications in your day-to-day activities and while not yet perfected, these applications and underlying technology are continuing to advance as they improve through machine learning. \n",
    "\n",
    "Other applications of NLP that you have probably been less impacted by personally include:\n",
    "* Sentiment extraction\n",
    "* Concept/topic extraction\n",
    "These two applications can have significant business impact by providing useful business insights for a variety of stakeholders. These NLP applications will be the focus of this case in which you will gain an introduction to NLP by focusing on extracting meaning from written text."
   ]
  },
  {
   "cell_type": "markdown",
   "metadata": {},
   "source": [
    "**Deliverable 3:** (A) What type of object in Python is the text you entered? (B) Calculate the total number of characters in `qa_text`. (C) Use indexing to look at just the characters between character 100 and character 120."
   ]
  },
  {
   "cell_type": "code",
   "execution_count": 4,
   "metadata": {},
   "outputs": [
    {
     "name": "stdout",
     "output_type": "stream",
     "text": [
      "<class 'str'>\n",
      "14093\n",
      "ich was the greater d\n"
     ]
    }
   ],
   "source": [
    "# Deliverable 3 Response:\n",
    "print(type(qa_text))\n",
    "print(len(qa_text.replace(' ','')))\n",
    "print(qa_text[99:120])"
   ]
  },
  {
   "cell_type": "code",
   "execution_count": 5,
   "metadata": {},
   "outputs": [
    {
     "name": "stdout",
     "output_type": "stream",
     "text": [
      "Q\n"
     ]
    }
   ],
   "source": [
    "# first character is indexed at 1\n",
    "print(qa_text[1])"
   ]
  },
  {
   "cell_type": "markdown",
   "metadata": {},
   "source": [
    "# 3.0 NLP Pre-processing"
   ]
  },
  {
   "cell_type": "markdown",
   "metadata": {},
   "source": [
    "## 3.1 NLP Tokenization"
   ]
  },
  {
   "cell_type": "markdown",
   "metadata": {},
   "source": [
    "Your goal is to use NLP to systematically and objectively derive meaning from the question and answer portion of the earnings conference call. So far, the big grouping of characters that you have is not very helpful. In fact, it does not really make much sense to analyze characters. What makes more sense is to analyze words. The process of tokenization in NLP takes a string and divides it into smaller parts, such as words. "
   ]
  },
  {
   "cell_type": "markdown",
   "metadata": {},
   "source": [
    "**Deliverable 4:** (A) Use the popular `word_tokenize` function from the Natural Language Toolkit (NLTK) to tokenize `qa_text`, and call this `tokens` (e.g., https://www.guru99.com/tokenize-words-sentences-nltk.html; https://www.nltk.org/). (B) What type of Python object is `tokens`? (C) How many total tokens do you now have? (D) Print tokens 100-120. (E) While placing the text into words helps, looking at the analysis above clearly shows some problems. Without reading ahead, write down what still needs to be fixed so that analysis will be easier."
   ]
  },
  {
   "cell_type": "code",
   "execution_count": 6,
   "metadata": {},
   "outputs": [
    {
     "name": "stderr",
     "output_type": "stream",
     "text": [
      "[nltk_data] Downloading package punkt to C:\\Users\\King\n",
      "[nltk_data]     Andy\\AppData\\Roaming\\nltk_data...\n",
      "[nltk_data]   Package punkt is already up-to-date!\n"
     ]
    },
    {
     "data": {
      "text/plain": [
       "True"
      ]
     },
     "execution_count": 6,
     "metadata": {},
     "output_type": "execute_result"
    }
   ],
   "source": [
    "nltk.download('punkt')"
   ]
  },
  {
   "cell_type": "code",
   "execution_count": 7,
   "metadata": {},
   "outputs": [
    {
     "name": "stdout",
     "output_type": "stream",
     "text": [
      "<class 'list'>\n",
      "3274\n",
      "['efficiency', 'will', 'allow', 'us', 'to', 'reach', 'our', 'desired', 'levels', 'of', 'capacity', 'without', 'the', 'degree', 'of', 'investment', 'we', 'had', 'initially', 'anticipated', '.']\n",
      "special characters are also counted as tokens, which, however, should be ignored\n"
     ]
    }
   ],
   "source": [
    "# Deliverable 4 Response:\n",
    "tokens = nltk.word_tokenize(qa_text)\n",
    "print(type(tokens))\n",
    "print(len(tokens))\n",
    "print(tokens[99:120])\n",
    "print('special characters are also counted as tokens, which, however, should be ignored')"
   ]
  },
  {
   "cell_type": "markdown",
   "metadata": {},
   "source": [
    "## 3.2 Consistent Case"
   ]
  },
  {
   "cell_type": "markdown",
   "metadata": {},
   "source": [
    "At least four major obstacles remain in the way of using this text. The overarching/overall problem is that not all of the text is useful. First, we have some words that are duplicated because one is in upper case and the other is in lowercase. Second, some of these tokens are not words at all, but rather are punctuation. Third, some tokens are just single characters, and thus, not very useful for analysis. Fourth, some of the tokens, even though they are words, are not very meaningful. You will address each of these obstacles one by one.\n",
    "\n",
    "First, make all of the words in your token list lowercase. Luckily, Python has a pre-built function which makes strings lowercase. You have a list of strings, so you can use this function, but since you have a list, you will need to go through each token in your list and make each one lowercase. There are at least two ways to do this. The traditional programming way to do this is to use a `for loop`. The more “Pythonic” way to do this is a `list comprehension`. Use both methods and compare and contrast them. The for loop is used for many purposes and is not specifically created to deal with lists. Thus, there are three parts to using the for loop. One, you will create a blank list called `low_tokens`. Two, you will create a for loop that loops through each token in your `tokens` list. Finally, you will make each token lowercase and append it to `low_tokens`. \n",
    "\n",
    "List comprehensions are very useful because they are made to work with lists and to return a list. Thus, a list comprehension is more efficient and easier to write than a for loop for the same purpose. A list comprehension has the following basic format: `new_list = [expression for item in old_list]`. (Finally, a third way to do this, would be to go back to `qa_text` and make the whole string lowercase using string operations (the string module) and then tokenize the string. We don’t have you do this so you can practice using list comprehensions and for loops.)"
   ]
  },
  {
   "cell_type": "markdown",
   "metadata": {},
   "source": [
    "**Deliverable 5:** (A) Use a for loop to make all the tokens in the `tokens` list lowercase. Call this `low_tokens`. Print the tokens 100-120. (B) Use a list comprehension to make all the tokens in the `tokens` list lowercase. Call this `low_tokens`. Print the tokens 100-120. (C) Compare and contrast these two methods. Which was easier for you? Why?"
   ]
  },
  {
   "cell_type": "code",
   "execution_count": 8,
   "metadata": {},
   "outputs": [
    {
     "name": "stdout",
     "output_type": "stream",
     "text": [
      "['efficiency', 'will', 'allow', 'us', 'to', 'reach', 'our', 'desired', 'levels', 'of', 'capacity', 'without', 'the', 'degree', 'of', 'investment', 'we', 'had', 'initially', 'anticipated', '.']\n",
      "--------------------------------------------------\n",
      "['efficiency', 'will', 'allow', 'us', 'to', 'reach', 'our', 'desired', 'levels', 'of', 'capacity', 'without', 'the', 'degree', 'of', 'investment', 'we', 'had', 'initially', 'anticipated', '.']\n"
     ]
    }
   ],
   "source": [
    "# Deliverable 5 Response:\n",
    "\n",
    "# for loop method\n",
    "low_tokens = []\n",
    "for i in tokens:\n",
    "    low_tokens.append(i.lower())\n",
    "print(low_tokens[99:120])\n",
    "\n",
    "# list comprehension method \n",
    "new_list = [i.lower() for i in tokens]\n",
    "print('-'*50)\n",
    "print(new_list[99:120])\n"
   ]
  },
  {
   "cell_type": "markdown",
   "metadata": {},
   "source": [
    "The list comprehension is easier as there are less codes to write and list comprehension method looks cleaner. "
   ]
  },
  {
   "cell_type": "markdown",
   "metadata": {},
   "source": [
    "## 3.3 Remove Punctuation"
   ]
  },
  {
   "cell_type": "markdown",
   "metadata": {},
   "source": [
    "The second obstacle to overcome to make this text useful is to remove punctuation from our text (or said another way, replace or substitute each punctuation mark with nothing). There are three ways to do this: \n",
    "* (a) going back to your string `qa_text` and taking out the punctuation and then tokenizing the string and making it lowercase again, \n",
    "* (b) using a for loop on the `low_tokens` list, or \n",
    "* (c) using a list comprehension on the on the `low_tokens` list. \n",
    "\n",
    "Use whichever method you would like to practice most. There are a lot of different possible punctuation marks that need to be removed. I recommend that you use something called regular expressions (or regex) to build a phrase/pattern that removes all punctuation at once. Regex can be rather complex, so search online for a good example and test it out (for example here: https://regexr.com/)."
   ]
  },
  {
   "cell_type": "markdown",
   "metadata": {},
   "source": [
    "**Deliverable 6:** Using any of the three methods above, remove all punctuation from your token list and call it `low_tokens2`. Print the tokens 100-120."
   ]
  },
  {
   "cell_type": "code",
   "execution_count": 9,
   "metadata": {},
   "outputs": [
    {
     "name": "stdout",
     "output_type": "stream",
     "text": [
      "['2', 'q1', 'iss', 'segment', 'you', 'mentioned', 'your', 'lack', 'of', 'optimism', 'about', 'the', 'competitive', 'environment', 'for', 'the', 'iss', 'segment', 'in', 'fy2020', 'but']\n"
     ]
    }
   ],
   "source": [
    "# Deliverable 6 Response:\n",
    "\n",
    "# list comprehension method\n",
    "new_text = re.sub(r'[^\\w\\s]','', qa_text)\n",
    "low_tokens2 = [i.lower() for i in word_tokenize(new_text)]\n",
    "print(low_tokens2[99:120])"
   ]
  },
  {
   "cell_type": "markdown",
   "metadata": {},
   "source": [
    "## 3.4 Remove Small Tokens"
   ]
  },
  {
   "cell_type": "markdown",
   "metadata": {},
   "source": [
    "The third obstacle to overcome is to eliminate small useless tokens. This is especially important if you used a for loop or list comprehension in the last step, since you will have many blank tokens, (e.g., `'''`). Use either a for loop or a list comprehension to do this. Use the method you did *NOT* use last time. Remember the basic syntax for list comprehensions and for loops:\n",
    "\n",
    "`[expression for item in list if conditional]` (another way to say this is “do this to the item in the list if this condition is met)\n",
    "\n",
    "```\n",
    "for item in list:\n",
    "    if conditional:\n",
    "        expression\n",
    "```"
   ]
  },
  {
   "cell_type": "markdown",
   "metadata": {},
   "source": [
    "**Deliverable 7:** Remove all tokens less than 2 characters long. Print the tokens 100-120."
   ]
  },
  {
   "cell_type": "code",
   "execution_count": 10,
   "metadata": {},
   "outputs": [
    {
     "name": "stdout",
     "output_type": "stream",
     "text": [
      "['iss', 'segment', 'you', 'mentioned', 'your', 'lack', 'of', 'optimism', 'about', 'the', 'competitive', 'environment', 'for', 'the', 'iss', 'segment', 'in', 'fy2020', 'but', 'it', 'seems']\n"
     ]
    }
   ],
   "source": [
    "# Deliverable 7 Response:\n",
    "\n",
    "# for loop method\n",
    "low_tokens3=low_tokens2\n",
    "for i in low_tokens3:\n",
    "    if len(i) < 2:\n",
    "        low_tokens3.remove(i)\n",
    "print(low_tokens3[99:120])"
   ]
  },
  {
   "cell_type": "markdown",
   "metadata": {},
   "source": [
    "## 3.5 Remove Stop Words"
   ]
  },
  {
   "cell_type": "markdown",
   "metadata": {},
   "source": [
    "### 3.5.1 Need for Stop Words"
   ]
  },
  {
   "cell_type": "markdown",
   "metadata": {},
   "source": [
    "With three obstacles cleared from our way, examine some of the most frequent words in the question and answer portion of your conference call. "
   ]
  },
  {
   "cell_type": "markdown",
   "metadata": {},
   "source": [
    "**Deliverable 8a:** Use NLTK’s `FreqDist()` function to plot the most frequent tokens in `low_tokens3`. What is the most frequent word? In general, are these words very useful in helping you to understand what is happening in this earnings conference call? Starting from the most frequent word in the graph, which is the first word that seems helpful? "
   ]
  },
  {
   "cell_type": "code",
   "execution_count": 11,
   "metadata": {},
   "outputs": [
    {
     "data": {
      "image/png": "[encoded data removed]",
      "text/plain": [
       "<Figure size 432x288 with 1 Axes>"
      ]
     },
     "metadata": {
      "needs_background": "light"
     },
     "output_type": "display_data"
    },
    {
     "data": {
      "text/plain": [
       "<matplotlib.axes._subplots.AxesSubplot at 0x2a4a4f4dc18>"
      ]
     },
     "execution_count": 11,
     "metadata": {},
     "output_type": "execute_result"
    }
   ],
   "source": [
    "# Deliverable 8a Response:\n",
    "\n",
    "FreqDist(low_tokens2).plot(20)"
   ]
  },
  {
   "cell_type": "markdown",
   "metadata": {},
   "source": [
    "the most frequent word is 'the', the word is not very useful. The first word that is kind of useful is 'segment'."
   ]
  },
  {
   "cell_type": "markdown",
   "metadata": {},
   "source": [
    "### 3.5.2 Eliminating Stop Words"
   ]
  },
  {
   "cell_type": "markdown",
   "metadata": {},
   "source": [
    "If the Q&A portion of your conference call is like most others, nearly all of the most frequent words are not that useful. Thus, you need to clear the fourth obstacle discussed above—eliminating useless words. In general the removal of these obstacles, all of this text pre-processing, has two broad categories, noise reduction and normalization. You have been doing noise reduction. This is the process of removing text and other data that is not critical to understanding the fundamental message in the text. Decisions about what text to remove will depend on the goal of the analysis, but normally includes removing punctuation, html tags and stop words. Removing stop words is your next task. Stop words are common words that add little to the meaning of the text, such as \"a\", \"and\", \"or\", etc. Your next step is to compare your list of tokens to a list of stop words and remove any tokens in the stop words list. \n",
    "\n",
    "There are many pre-made stop word lists (e.g., from NLTK and the Stanford NLP group), but you will use a custom-made stop word list for this case that will be provided to you. Download the following file and use the code provided here to load the stop word list, after changing the file location to wherever you downloaded the file. "
   ]
  },
  {
   "cell_type": "code",
   "execution_count": 12,
   "metadata": {},
   "outputs": [],
   "source": [
    "# change the folder/path\n",
    "stop1 = pd.read_csv('/Users/King Andy/Desktop/2020 Spring/accy 575 da app/conference call case/stop_words_list.csv', header=None, encoding = \"ISO-8859-1\")\n",
    "stop = stop1[0].tolist()\n",
    "#print(stop)"
   ]
  },
  {
   "cell_type": "markdown",
   "metadata": {},
   "source": [
    "**Deliverable 8b:** Now, use a for loop or list comprehension to eliminate stop words from `low_tokens3`. Call this new list `low_tokens4`. Once again, print the tokens 100-120. Additionally, once again use NLTK’s `FreqDist()` function to plot the most frequent tokens. Do the words displayed in these two outputs seem more useful? Which word would you like to explore more thoroughly?"
   ]
  },
  {
   "cell_type": "code",
   "execution_count": 13,
   "metadata": {},
   "outputs": [
    {
     "name": "stdout",
     "output_type": "stream",
     "text": [
      "['raising', 'issue', 'sufficiently', 'meet', 'demand', 'fy2020', 'addition', '08micron', 'image', 'sensors', 'contributed', 'significantly', 'fy2019', 'earnings', 'entering', 'year', 'mass', 'production', 'expect', 'competitors', 'catch']\n"
     ]
    }
   ],
   "source": [
    "# Deliverable 8b Response:\n",
    "low_tokens4 = [i for i in low_tokens3 if i not in stop]\n",
    "print(low_tokens4[99:120])"
   ]
  },
  {
   "cell_type": "code",
   "execution_count": 14,
   "metadata": {},
   "outputs": [
    {
     "data": {
      "image/png": "[encoded data removed]",
      "text/plain": [
       "<Figure size 432x288 with 1 Axes>"
      ]
     },
     "metadata": {
      "needs_background": "light"
     },
     "output_type": "display_data"
    },
    {
     "data": {
      "text/plain": [
       "<matplotlib.axes._subplots.AxesSubplot at 0x2a4a707e048>"
      ]
     },
     "execution_count": 14,
     "metadata": {},
     "output_type": "execute_result"
    }
   ],
   "source": [
    "FreqDist(low_tokens4).plot(30)"
   ]
  },
  {
   "cell_type": "markdown",
   "metadata": {},
   "source": [
    "Yes, they are more useful after the elimination of those stop words. We want to explore more about words\"fy2020\",\"inventory\",\"capacity\",\"outlook\",\"investment\", and \"production\"."
   ]
  },
  {
   "cell_type": "markdown",
   "metadata": {},
   "source": [
    "## 3.6 Eliminating Small Tokens Again"
   ]
  },
  {
   "cell_type": "markdown",
   "metadata": {},
   "source": [
    "Make one more change to see if you can derive some use from looking at these most frequent words. \n",
    "\n",
    "**Deliverable 8c:** Eliminate all tokens less than 5, 6, 7, 8, 9, or 10 characters (you pick which works best), and print the frequency distribution again. What do you learn? What would you like to investigate? Now, regardless of your choice, eliminate all tokens less than 5 characters, and create a new list called `low_tokens5`."
   ]
  },
  {
   "cell_type": "code",
   "execution_count": 15,
   "metadata": {},
   "outputs": [
    {
     "data": {
      "text/plain": [
       "FreqDist({'segment': 28, 'quarter': 28, 'fy2020': 15, 'inventory': 10, 'business': 10, 'capacity': 9, 'statements': 9, 'questioner': 8, 'expect': 8, 'outlook': 7, ...})"
      ]
     },
     "execution_count": 15,
     "metadata": {},
     "output_type": "execute_result"
    }
   ],
   "source": [
    "# Deliverable 8c Response:\n",
    "low_tokens5 = [i for i in low_tokens4 if len(i)>4]\n",
    "FreqDist(low_tokens5)"
   ]
  },
  {
   "cell_type": "markdown",
   "metadata": {},
   "source": [
    "After we eliminate tokens of less than 4 characters, now we obtain words that are more relevant and contain more information. We would like to investigate \"fy2020\", \"segment\", \"inventory\", and \"capacity\", and \"outlook\". "
   ]
  },
  {
   "cell_type": "markdown",
   "metadata": {},
   "source": [
    "## 3.7 Normalization/Lemmatization"
   ]
  },
  {
   "cell_type": "markdown",
   "metadata": {},
   "source": [
    "One final obstacle that we have not yet discussed occurs when a test has many versions of the same word. For example, “questions” and “question” have very similar meanings and most of the time you would not want to analyze these as two separate words. Fixing this obstacle is called normalizing the text. Normalization, also called lemmatization, refers to the process of standardizing similar words so that they can be processed together. For example, lemmatizing a word will change each word to its lemma, or its cannonical or root form. For example, it would change \"plays\" to \"play\". Thus, a subsequent text analysis will treat both of these words as one word, \"play\", instead of two different words. "
   ]
  },
  {
   "cell_type": "markdown",
   "metadata": {},
   "source": [
    "**Deliverable 9a:** Use the following text to print a string and the tokens from that string:\n",
    "```python\n",
    "toy_text = 'Can I ask some questions, a multi-part question? My question is about the cacti and geese lines. \\\n",
    "Has the FDA study and the other studies been done yet?'\n",
    "print(f'This is the string text: \\n{toy_text}')\n",
    "toy_tokens = nltk.word_tokenize(toy_text)\n",
    "print(f'\\nThese are the tokens: \\n{toy_tokens}')\n",
    "```\n",
    "\n",
    "Next, use a for loop or list comprehension to lemmatize each token. Specifically, use NLTK’s `WordnetLemmatizer()`. Next, print the now lemmatized tokens. Finally, write a sentence or two about how the text changed when it went from the initial string to the final lemmatized tokens.\n",
    "\n",
    "**Deliverable 9b:** Next, use this same technique, via a for loop or a list comprehension, to lemmatize the tokens in `low_tokens5`. Call this new list `low_tokens6` and print the frequency distribution again.\n",
    "\n",
    "**Deliverable 9c:** Finally, pick one interesting, frequently used token from the Q&A of your conference call and search for it in your string. You can automate this or just do it by hand. Print the phrase with 5 words before and after the token. Do you learn anything from looking for this word?"
   ]
  },
  {
   "cell_type": "code",
   "execution_count": 16,
   "metadata": {},
   "outputs": [
    {
     "name": "stdout",
     "output_type": "stream",
     "text": [
      "This is the string text: \n",
      "Can I ask some questions, a multi-part question? My question is about the cacti and geese lines.Has the FDA study and the other studies been done yet?\n",
      "\n",
      "These are the tokens: \n",
      "['Can', 'I', 'ask', 'some', 'questions', ',', 'a', 'multi-part', 'question', '?', 'My', 'question', 'is', 'about', 'the', 'cacti', 'and', 'geese', 'lines.Has', 'the', 'FDA', 'study', 'and', 'the', 'other', 'studies', 'been', 'done', 'yet', '?']\n"
     ]
    }
   ],
   "source": [
    "# Deliverable 9 Response:\n",
    "toy_text = 'Can I ask some questions, a multi-part question? My question is about the cacti and geese lines.Has the FDA study and the other studies been done yet?'\n",
    "print(f'This is the string text: \\n{toy_text}')\n",
    "toy_tokens = nltk.word_tokenize(toy_text)\n",
    "print(f'\\nThese are the tokens: \\n{toy_tokens}')"
   ]
  },
  {
   "cell_type": "code",
   "execution_count": 17,
   "metadata": {},
   "outputs": [
    {
     "name": "stdout",
     "output_type": "stream",
     "text": [
      "['Can', 'I', 'ask', 'some', 'question', ',', 'a', 'multi-part', 'question', '?', 'My', 'question', 'is', 'about', 'the', 'cactus', 'and', 'goose', 'lines.Has', 'the', 'FDA', 'study', 'and', 'the', 'other', 'study', 'been', 'done', 'yet', '?']\n"
     ]
    }
   ],
   "source": [
    "# 9a\n",
    "lemmatizer = WordNetLemmatizer()\n",
    "res = []\n",
    "for i in toy_tokens:\n",
    "    res.append(lemmatizer.lemmatize(i))\n",
    "print(res)"
   ]
  },
  {
   "cell_type": "markdown",
   "metadata": {},
   "source": [
    "it changes all the plural words to singular words. for example, 'questions' becomes 'question'"
   ]
  },
  {
   "cell_type": "code",
   "execution_count": 18,
   "metadata": {},
   "outputs": [
    {
     "data": {
      "text/plain": [
       "FreqDist({'segment': 28, 'quarter': 28, 'fy2020': 15, 'product': 10, 'inventory': 10, 'business': 10, 'statement': 10, 'capacity': 9, 'questioner': 8, 'investment': 8, ...})"
      ]
     },
     "execution_count": 18,
     "metadata": {},
     "output_type": "execute_result"
    }
   ],
   "source": [
    "# 9b\n",
    "lemmatizer = WordNetLemmatizer()\n",
    "low_tokens6 = []\n",
    "for i in low_tokens5:\n",
    "    low_tokens6.append(lemmatizer.lemmatize(i))\n",
    "FreqDist(low_tokens6)"
   ]
  },
  {
   "cell_type": "markdown",
   "metadata": {},
   "source": [
    "# 9c\n",
    "we choose 'inventory'\n",
    "\n",
    "1.plans to build up strategic inventory in the 4th Quarter in \n",
    "\n",
    "2.almost all of the strategic inventory we planned to build for \n",
    "\n",
    "3.3rd Quarter inventory, as I just mentioned, was \n",
    "\n",
    "4.to keep firm control on inventory and make solid manufacturing and \n",
    "\n",
    "5.amount in the 3rd Quarter? Inventory fluctuations meanwhile seem to \n",
    "\n",
    "6.On the question of how inventory fluctuations impact profits, we saw\n",
    "\n",
    "7.7.8 billion yen decline in inventory between the 2nd Quarter and\n",
    "\n",
    "8.How is inventory in the I&SS segment likely\n",
    "\n",
    "9.was to build up strategic inventory for 1H FY2020. Thereafter, customer \n",
    "\n",
    "10.we believe that 4th Quarter inventory may not change much, increasing\n",
    "\n",
    "We learned Sony have a plan to bulid a strategic inventory. And the inventory fluctuated and impacted profit before 4th quarter. They believe the inventory will not change much in 4th quarter. "
   ]
  },
  {
   "cell_type": "markdown",
   "metadata": {},
   "source": [
    "# 4.0 NLP using Pandas in a DataFrame with Many Conference Calls"
   ]
  },
  {
   "cell_type": "markdown",
   "metadata": {},
   "source": [
    "## 4.1 Load and Examine the DataFrame"
   ]
  },
  {
   "cell_type": "markdown",
   "metadata": {},
   "source": [
    "At this point you have learned and practiced many of the basics of NLP. Further, you have likely seen that these techniques can be useful in cleaning up a text and eliminating less useful information, toward achieving the goal of systematically and objectively deriving meaning from the question and answer portion of the earnings conference call. However, the real power in these techniques comes when you want to analyze many different texts / strings. In this next part of the case, you will be given code that will allow you to see some of these benefits. Additionally, you will develop one more skill, calculating sentiment.\n",
    "\n",
    "Use the code to load a pickle file to a DataFrame. This DF contains the Q&A portions of many conference calls from many companies. The comments of all executives and employees of the companies have been removed, so all that remains are the questions and responses of the analysts. Thus, the DF can give us an idea of what the analysts that follow the company are concerned about. Additionally, the DF has one row for each person each time they speak (from the time they start speaking until someone else starts speaking). So, the level of aggregation of the DF is person/statement. \n",
    "```python\n",
    "df = pd.read_pickle(r'C:\\Users\\jlhobson\\Documents\\Data Analytics General\\EYARC\\Conference Call Case\\cc_case_data_sp2020.p')\n",
    "```"
   ]
  },
  {
   "cell_type": "markdown",
   "metadata": {},
   "source": [
    "**Deliverable 10a:** Use the code provided above to load the DataFrame. \n",
    "\n",
    "The key columns from the DF are as follows:\n",
    "* `company_name` - name of the company\n",
    "* `ticker` - company ticker \n",
    "* `date` - date of the earnings conference call\n",
    "* `speaker` - analyst who is speaking\n",
    "* `text` - the original text of the analyst’s text\n",
    "* `tokens` - cleaned and lemmatized tokens\n",
    "* `frequent` - tokens that appear frequently in the text (specifically, each token in this list appears at least 800 times in the whole DataFrame).\n",
    "* `rare` - tokens that appear infrequently in the text (specifically, each token in this list appears at most 80 times in the whole DataFrame).\n",
    "\n",
    "Discuss in a few sentences why it would it be useful for an auditor or investor to know what analysts are saying about a company the auditor or investor is interested in? Next, write potential benefits of including frequent and infrequent (rare) tokens. How could these columns help an auditor or investor quickly gain some understanding of what the analyst is saying?\n",
    "\n",
    "Next, let’s explore this DF a bit. \n",
    "\n",
    "**Deliverable 10b:** How many unique companies are represented in the dataset? How many conference calls are there per company, on average? How many analyst discussions are there per conference call, on average?"
   ]
  },
  {
   "cell_type": "code",
   "execution_count": 19,
   "metadata": {},
   "outputs": [
    {
     "data": {
      "text/html": [
       "<div>\n",
       "<style scoped>\n",
       "    .dataframe tbody tr th:only-of-type {\n",
       "        vertical-align: middle;\n",
       "    }\n",
       "\n",
       "    .dataframe tbody tr th {\n",
       "        vertical-align: top;\n",
       "    }\n",
       "\n",
       "    .dataframe thead th {\n",
       "        text-align: right;\n",
       "    }\n",
       "</style>\n",
       "<table border=\"1\" class=\"dataframe\">\n",
       "  <thead>\n",
       "    <tr style=\"text-align: right;\">\n",
       "      <th></th>\n",
       "      <th>company_name</th>\n",
       "      <th>ticker</th>\n",
       "      <th>date</th>\n",
       "      <th>speaker</th>\n",
       "      <th>text</th>\n",
       "      <th>tokens</th>\n",
       "      <th>frequent</th>\n",
       "      <th>rare</th>\n",
       "    </tr>\n",
       "  </thead>\n",
       "  <tbody>\n",
       "    <tr>\n",
       "      <th>58</th>\n",
       "      <td>Alcoa Corporation</td>\n",
       "      <td>AA</td>\n",
       "      <td>Oct. 17, 2018  9:50 PM</td>\n",
       "      <td>Piyush Sood</td>\n",
       "      <td>with Morgan Stanley. Please go ahead.  Roy and Bill, congratulations on a strong quarter. Good to see a large $200 million buyback plan, what was your thinking about starting with only a buyback and not a mix of a regular say, a 1% small dividend and the remaining through buyback. Just want to understand the thinking behind the decision?</td>\n",
       "      <td>[ahead, bill, congratulation, strong, quarter, good, large, buyback, plan, thinking, starting, buyback, mix, regular, small, dividend, remaining, buyback, understand, thinking, decision]</td>\n",
       "      <td>[decision, congratulation, small, buyback, good, starting, mix, large, strong, quarter, plan, understand, dividend, thinking, ahead]</td>\n",
       "      <td>[]</td>\n",
       "    </tr>\n",
       "    <tr>\n",
       "      <th>59</th>\n",
       "      <td>Alcoa Corporation</td>\n",
       "      <td>AA</td>\n",
       "      <td>Oct. 17, 2018  9:50 PM</td>\n",
       "      <td>Piyush Sood</td>\n",
       "      <td>Roy and Bill, congratulations on a strong quarter. Good to see a large $200 million buyback plan, what was your thinking about starting with only a buyback and not a mix of a regular say, a 1% small dividend and the remaining through buyback. Just want to understand the thinking behind the decision?</td>\n",
       "      <td>[bill, congratulation, strong, quarter, good, large, buyback, plan, thinking, starting, buyback, mix, regular, small, dividend, remaining, buyback, understand, thinking, decision]</td>\n",
       "      <td>[decision, congratulation, small, buyback, good, starting, mix, large, strong, quarter, plan, understand, dividend, thinking]</td>\n",
       "      <td>[]</td>\n",
       "    </tr>\n",
       "    <tr>\n",
       "      <th>60</th>\n",
       "      <td>Alcoa Corporation</td>\n",
       "      <td>AA</td>\n",
       "      <td>Oct. 17, 2018  9:50 PM</td>\n",
       "      <td>Piyush Sood</td>\n",
       "      <td>Fair enough. And one more from me, and I'll get back in the queue. So the U.S. MCA has been signed, and there is a possibility that we could see Section 232 Tariffs in calendar converted into quaters. So if that happens, your import bill will come down, but what do you think that does to U.S. Midwest premiums? Should we expect to floor in the high teens cents per pound at this point assuming that it's more like a duty paid premium at this point?</td>\n",
       "      <td>[fair, back, queue, mca, signed, possibility, section, tariff, calendar, converted, quaters, import, bill, midwest, premium, expect, floor, high, teen, cent, pound, point, assuming, duty, paid, premium, point]</td>\n",
       "      <td>[expect, point, back, tariff, assuming, fair, high]</td>\n",
       "      <td>[cent, midwest, quaters, converted, duty, mca]</td>\n",
       "    </tr>\n",
       "    <tr>\n",
       "      <th>61</th>\n",
       "      <td>Alcoa Corporation</td>\n",
       "      <td>AA</td>\n",
       "      <td>Oct. 17, 2018  9:50 PM</td>\n",
       "      <td>Piyush Sood</td>\n",
       "      <td>And sorry one more question, and this is more to just clarify a comment. Bill, when we were thinking about making a sequential bridge 3Q versus 4Q, should we exclude $60 million price mix benefit in the Alumina segment? And is there any other 3Q bridge item you think it's non-repeatable?</td>\n",
       "      <td>[clarify, bill, thinking, making, sequential, bridge, 3q, versus, 4q, exclude, price, mix, benefit, alumina, segment, 3q, bridge, item, nonrepeatable]</td>\n",
       "      <td>[price, clarify, making, item, 4q, segment, mix, benefit, 3q, thinking, versus]</td>\n",
       "      <td>[nonrepeatable, alumina]</td>\n",
       "    </tr>\n",
       "    <tr>\n",
       "      <th>64</th>\n",
       "      <td>Alcoa Corporation</td>\n",
       "      <td>AA</td>\n",
       "      <td>Oct. 17, 2018  9:50 PM</td>\n",
       "      <td>David Gagliano</td>\n",
       "      <td>with BMO Capital Markets. Please go ahead.  Hi, thanks for taking my questions. I just have a -- I have a two or three, relatively minor questions, but I just wanted to cross a few off of the list in terms of the numbers here. First of all, the $30 million quarter-over-quarter improvement in EBITDA contribution from flat-rolled business versus the second quarter, is that new level of EBITDA contribution for flat-rolled reasonable moving forward?</td>\n",
       "      <td>[capital, market, ahead, taking, question, minor, question, wanted, cross, list, term, number, quarteroverquarter, improvement, ebitda, contribution, flatrolled, business, versus, quarter, level, ebitda, contribution, flatrolled, reasonable, moving, forward]</td>\n",
       "      <td>[market, level, moving, number, taking, term, wanted, capital, question, ahead, contribution, quarter, business, improvement, versus, forward, ebitda]</td>\n",
       "      <td>[flatrolled, minor]</td>\n",
       "    </tr>\n",
       "  </tbody>\n",
       "</table>\n",
       "</div>"
      ],
      "text/plain": [
       "          company_name ticker                    date         speaker  \\\n",
       "58  Alcoa Corporation   AA     Oct. 17, 2018  9:50 PM  Piyush Sood      \n",
       "59  Alcoa Corporation   AA     Oct. 17, 2018  9:50 PM  Piyush Sood      \n",
       "60  Alcoa Corporation   AA     Oct. 17, 2018  9:50 PM  Piyush Sood      \n",
       "61  Alcoa Corporation   AA     Oct. 17, 2018  9:50 PM  Piyush Sood      \n",
       "64  Alcoa Corporation   AA     Oct. 17, 2018  9:50 PM  David Gagliano   \n",
       "\n",
       "                                                                                                                                                                                                                                                                                                                                                                                                                                                                 text  \\\n",
       "58  with Morgan Stanley. Please go ahead.  Roy and Bill, congratulations on a strong quarter. Good to see a large $200 million buyback plan, what was your thinking about starting with only a buyback and not a mix of a regular say, a 1% small dividend and the remaining through buyback. Just want to understand the thinking behind the decision?                                                                                                                 \n",
       "59  Roy and Bill, congratulations on a strong quarter. Good to see a large $200 million buyback plan, what was your thinking about starting with only a buyback and not a mix of a regular say, a 1% small dividend and the remaining through buyback. Just want to understand the thinking behind the decision?                                                                                                                                                        \n",
       "60  Fair enough. And one more from me, and I'll get back in the queue. So the U.S. MCA has been signed, and there is a possibility that we could see Section 232 Tariffs in calendar converted into quaters. So if that happens, your import bill will come down, but what do you think that does to U.S. Midwest premiums? Should we expect to floor in the high teens cents per pound at this point assuming that it's more like a duty paid premium at this point?   \n",
       "61  And sorry one more question, and this is more to just clarify a comment. Bill, when we were thinking about making a sequential bridge 3Q versus 4Q, should we exclude $60 million price mix benefit in the Alumina segment? And is there any other 3Q bridge item you think it's non-repeatable?                                                                                                                                                                    \n",
       "64  with BMO Capital Markets. Please go ahead.  Hi, thanks for taking my questions. I just have a -- I have a two or three, relatively minor questions, but I just wanted to cross a few off of the list in terms of the numbers here. First of all, the $30 million quarter-over-quarter improvement in EBITDA contribution from flat-rolled business versus the second quarter, is that new level of EBITDA contribution for flat-rolled reasonable moving forward?   \n",
       "\n",
       "                                                                                                                                                                                                                                                                tokens  \\\n",
       "58  [ahead, bill, congratulation, strong, quarter, good, large, buyback, plan, thinking, starting, buyback, mix, regular, small, dividend, remaining, buyback, understand, thinking, decision]                                                                           \n",
       "59  [bill, congratulation, strong, quarter, good, large, buyback, plan, thinking, starting, buyback, mix, regular, small, dividend, remaining, buyback, understand, thinking, decision]                                                                                  \n",
       "60  [fair, back, queue, mca, signed, possibility, section, tariff, calendar, converted, quaters, import, bill, midwest, premium, expect, floor, high, teen, cent, pound, point, assuming, duty, paid, premium, point]                                                    \n",
       "61  [clarify, bill, thinking, making, sequential, bridge, 3q, versus, 4q, exclude, price, mix, benefit, alumina, segment, 3q, bridge, item, nonrepeatable]                                                                                                               \n",
       "64  [capital, market, ahead, taking, question, minor, question, wanted, cross, list, term, number, quarteroverquarter, improvement, ebitda, contribution, flatrolled, business, versus, quarter, level, ebitda, contribution, flatrolled, reasonable, moving, forward]   \n",
       "\n",
       "                                                                                                                                                  frequent  \\\n",
       "58  [decision, congratulation, small, buyback, good, starting, mix, large, strong, quarter, plan, understand, dividend, thinking, ahead]                     \n",
       "59  [decision, congratulation, small, buyback, good, starting, mix, large, strong, quarter, plan, understand, dividend, thinking]                            \n",
       "60  [expect, point, back, tariff, assuming, fair, high]                                                                                                      \n",
       "61  [price, clarify, making, item, 4q, segment, mix, benefit, 3q, thinking, versus]                                                                          \n",
       "64  [market, level, moving, number, taking, term, wanted, capital, question, ahead, contribution, quarter, business, improvement, versus, forward, ebitda]   \n",
       "\n",
       "                                              rare  \n",
       "58  []                                              \n",
       "59  []                                              \n",
       "60  [cent, midwest, quaters, converted, duty, mca]  \n",
       "61  [nonrepeatable, alumina]                        \n",
       "64  [flatrolled, minor]                             "
      ]
     },
     "execution_count": 19,
     "metadata": {},
     "output_type": "execute_result"
    }
   ],
   "source": [
    "# Deliverable 10 Response:\n",
    "df2 = pd.read_pickle(r'C:\\Users\\King Andy\\Desktop\\2020 Spring\\accy 575 da app\\conference call case\\cc_case_data_sp2020.p')\n",
    "df2.head()"
   ]
  },
  {
   "cell_type": "markdown",
   "metadata": {},
   "source": [
    "10a\n",
    "\n",
    "what analysts say about a company reflect the market impression evaluation of the company. It can easily direct capital into or out from the company. \n",
    "\n",
    "These tokens can provide a quick and general \"description\" about the transcrit. It shows what the company is trying to convey and what the company is focusing on. "
   ]
  },
  {
   "cell_type": "code",
   "execution_count": 20,
   "metadata": {},
   "outputs": [
    {
     "name": "stdout",
     "output_type": "stream",
     "text": [
      "3696\n",
      "1.3211580086580086\n",
      "18.71841081302478\n"
     ]
    }
   ],
   "source": [
    "# 10b\n",
    "c_uni = df2['ticker'].unique()\n",
    "print(len(c_uni))\n",
    "print(len(df2.groupby(['ticker','date']))/len(c_uni))\n",
    "print(len(df2)/len(df2.groupby(['ticker','date'])))"
   ]
  },
  {
   "cell_type": "markdown",
   "metadata": {},
   "source": [
    "## 4.2 Sentiment"
   ]
  },
  {
   "cell_type": "markdown",
   "metadata": {},
   "source": [
    "### 4.2.1 Calculate Sentiment"
   ]
  },
  {
   "cell_type": "markdown",
   "metadata": {},
   "source": [
    "Examining these frequent and rare keywords does speed up the process of understanding what is being said. A second way to gather meaning from the text would be to gain an understanding of what analysts are feeling, or in other words, their sentiment. We can do this by using what is frequently called a bag-of-words approach. That is, if we were interested in negative feelings, we could do the following:\n",
    "* Get a list of negative words (we will call this list a dictionary).\n",
    "* Count the number of tokens/words that are in this list.\n",
    "* This count will now be a relative measure of how negative that speaker is.\n",
    "\n",
    "Below, we have included three dictionaries or lists of positive, negative, and uncertain words from Loughran and McDonald (Loughran, T. I. M., and B. McDonald. 2016. Textual Analysis in Accounting and Finance: A Survey. Journal of Accounting Research 54 (4):1187-1230; https://sraf.nd.edu/textual-analysis/resources/#LM%20Sentiment%20Word%20Lists). Run this code before the next Deliverable."
   ]
  },
  {
   "cell_type": "code",
   "execution_count": 21,
   "metadata": {},
   "outputs": [],
   "source": [
    "pos_words = ['able', \t'abundance', \t'abundant', \t'acclaimed', \t'accomplish', \t'accomplished', \t'accomplishes', \t'accomplishing', \t'accomplishment', \t'accomplishments', \t'achieve', \t'achieved', \t'achievement', \t'achievements', \t'achieves', \t'achieving', \t'adequately', \t'advancement', \t'advancements', \t'advances', \t'advancing', \t'advantage', \t'advantaged', \t'advantageous', \t'advantageously', \t'advantages', \t'alliance', \t'alliances', \t'assure', \t'assured', \t'assures', \t'assuring', \t'attain', \t'attained', \t'attaining', \t'attainment', \t'attainments', \t'attains', \t'attractive', \t'attractiveness', \t'beautiful', \t'beautifully', \t'beneficial', \t'beneficially', \t'benefit', \t'benefited', \t'benefiting', \t'benefitted', \t'benefitting', \t'best', \t'better', \t'bolstered', \t'bolstering', \t'bolsters', \t'boom', \t'booming', \t'boost', \t'boosted', \t'breakthrough', \t'breakthroughs', \t'brilliant', \t'charitable', \t'collaborate', \t'collaborated', \t'collaborates', \t'collaborating', \t'collaboration', \t'collaborations', \t'collaborative', \t'collaborator', \t'collaborators', \t'compliment', \t'complimentary', \t'complimented', \t'complimenting', \t'compliments', \t'conclusive', \t'conclusively', \t'conducive', \t'confident', \t'constructive', \t'constructively', \t'courteous', \t'creative', \t'creatively', \t'creativeness', \t'creativity', \t'delight', \t'delighted', \t'delightful', \t'delightfully', \t'delighting', \t'delights', \t'dependability', \t'dependable', \t'desirable', \t'desired', \t'despite', \t'destined', \t'diligent', \t'diligently', \t'distinction', \t'distinctions', \t'distinctive', \t'distinctively', \t'distinctiveness', \t'dream', \t'easier', \t'easily', \t'easy', \t'effective', \t'efficiencies', \t'efficiency', \t'efficient', \t'efficiently', \t'empower', \t'empowered', \t'empowering', \t'empowers', \t'enable', \t'enabled', \t'enables', \t'enabling', \t'encouraged', \t'encouragement', \t'encourages', \t'encouraging', \t'enhance', \t'enhanced', \t'enhancement', \t'enhancements', \t'enhances', \t'enhancing', \t'enjoy', \t'enjoyable', \t'enjoyably', \t'enjoyed', \t'enjoying', \t'enjoyment', \t'enjoys', \t'enthusiasm', \t'enthusiastic', \t'enthusiastically', \t'excellence', \t'excellent', \t'excelling', \t'excels', \t'exceptional', \t'exceptionally', \t'excited', \t'excitement', \t'exciting', \t'exclusive', \t'exclusively', \t'exclusiveness', \t'exclusives', \t'exclusivity', \t'exemplary', \t'fantastic', \t'favorable', \t'favorably', \t'favored', \t'favoring', \t'favorite', \t'favorites', \t'friendly', \t'gain', \t'gained', \t'gaining', \t'gains', \t'good', \t'great', \t'greater', \t'greatest', \t'greatly', \t'greatness', \t'happiest', \t'happily', \t'happiness', \t'happy', \t'highest', \t'honor', \t'honorable', \t'honored', \t'honoring', \t'honors', \t'ideal', \t'impress', \t'impressed', \t'impresses', \t'impressing', \t'impressive', \t'impressively', \t'improve', \t'improved', \t'improvement', \t'improvements', \t'improves', \t'improving', \t'incredible', \t'incredibly', \t'influential', \t'informative', \t'ingenuity', \t'innovate', \t'innovated', \t'innovates', \t'innovating', \t'innovation', \t'innovations', \t'innovative', \t'innovativeness', \t'innovator', \t'innovators', \t'insightful', \t'inspiration', \t'inspirational', \t'integrity', \t'invent', \t'invented', \t'inventing', \t'invention', \t'inventions', \t'inventive', \t'inventiveness', \t'inventor', \t'inventors', \t'leadership', \t'leading', \t'loyal', \t'lucrative', \t'meritorious', \t'opportunities', \t'opportunity', \t'optimistic', \t'outperform', \t'outperformed', \t'outperforming', \t'outperforms', \t'perfect', \t'perfected', \t'perfectly', \t'perfects', \t'pleasant', \t'pleasantly', \t'pleased', \t'pleasure', \t'plentiful', \t'popular', \t'popularity', \t'positive', \t'positively', \t'preeminence', \t'preeminent', \t'premier', \t'premiere', \t'prestige', \t'prestigious', \t'proactive', \t'proactively', \t'proficiency', \t'proficient', \t'proficiently', \t'profitability', \t'profitable', \t'profitably', \t'progress', \t'progressed', \t'progresses', \t'progressing', \t'prospered', \t'prospering', \t'prosperity', \t'prosperous', \t'prospers', \t'rebound', \t'rebounded', \t'rebounding', \t'receptive', \t'regain', \t'regained', \t'regaining', \t'resolve', \t'revolutionize', \t'revolutionized', \t'revolutionizes', \t'revolutionizing', \t'reward', \t'rewarded', \t'rewarding', \t'rewards', \t'satisfaction', \t'satisfactorily', \t'satisfactory', \t'satisfied', \t'satisfies', \t'satisfy', \t'satisfying', \t'smooth', \t'smoothing', \t'smoothly', \t'smooths', \t'solves', \t'solving', \t'spectacular', \t'spectacularly', \t'stability', \t'stabilization', \t'stabilizations', \t'stabilize', \t'stabilized', \t'stabilizes', \t'stabilizing', \t'stable', \t'strength', \t'strengthen', \t'strengthened', \t'strengthening', \t'strengthens', \t'strengths', \t'strong', \t'stronger', \t'strongest', \t'succeed', \t'succeeded', \t'succeeding', \t'succeeds', \t'success', \t'successes', \t'successful', \t'successfully', \t'superior', \t'surpass', \t'surpassed', \t'surpasses', \t'surpassing', \t'transparency', \t'tremendous', \t'tremendously', \t'unmatched', \t'unparalleled', \t'unsurpassed', \t'upturn', \t'upturns', \t'valuable', \t'versatile', \t'versatility', \t'vibrancy', \t'vibrant', \t'win', \t'winner', \t'winners', \t'winning', \t'worthy'] # take out 'question' and 'questions' since not negative in conference calls\n",
    "neg_words = ['abandon', \t'abandoned', \t'abandoning', \t'abandonment', \t'abandonments', \t'abandons', \t'abdicated', \t'abdicates', \t'abdicating', \t'abdication', \t'abdications', \t'aberrant', \t'aberration', \t'aberrational', \t'aberrations', \t'abetting', \t'abnormal', \t'abnormalities', \t'abnormality', \t'abnormally', \t'abolish', \t'abolished', \t'abolishes', \t'abolishing', \t'abrogate', \t'abrogated', \t'abrogates', \t'abrogating', \t'abrogation', \t'abrogations', \t'abrupt', \t'abruptly', \t'abruptness', \t'absence', \t'absences', \t'absenteeism', \t'abuse', \t'abused', \t'abuses', \t'abusing', \t'abusive', \t'abusively', \t'abusiveness', \t'accident', \t'accidental', \t'accidentally', \t'accidents', \t'accusation', \t'accusations', \t'accuse', \t'accused', \t'accuses', \t'accusing', \t'acquiesce', \t'acquiesced', \t'acquiesces', \t'acquiescing', \t'acquit', \t'acquits', \t'acquittal', \t'acquittals', \t'acquitted', \t'acquitting', \t'adulterate', \t'adulterated', \t'adulterating', \t'adulteration', \t'adulterations', \t'adversarial', \t'adversaries', \t'adversary', \t'adverse', \t'adversely', \t'adversities', \t'adversity', \t'aftermath', \t'aftermaths', \t'against', \t'aggravate', \t'aggravated', \t'aggravates', \t'aggravating', \t'aggravation', \t'aggravations', \t'alerted', \t'alerting', \t'alienate', \t'alienated', \t'alienates', \t'alienating', \t'alienation', \t'alienations', \t'allegation', \t'allegations', \t'allege', \t'alleged', \t'allegedly', \t'alleges', \t'alleging', \t'annoy', \t'annoyance', \t'annoyances', \t'annoyed', \t'annoying', \t'annoys', \t'annul', \t'annulled', \t'annulling', \t'annulment', \t'annulments', \t'annuls', \t'anomalies', \t'anomalous', \t'anomalously', \t'anomaly', \t'anticompetitive', \t'antitrust', \t'argue', \t'argued', \t'arguing', \t'argument', \t'argumentative', \t'arguments', \t'arrearage', \t'arrearages', \t'arrears', \t'arrest', \t'arrested', \t'arrests', \t'artificially', \t'assault', \t'assaulted', \t'assaulting', \t'assaults', \t'assertions', \t'attrition', \t'aversely', \t'backdating', \t'bad', \t'bail', \t'bailout', \t'balk', \t'balked', \t'bankrupt', \t'bankruptcies', \t'bankruptcy', \t'bankrupted', \t'bankrupting', \t'bankrupts', \t'bans', \t'barred', \t'barrier', \t'barriers', \t'bottleneck', \t'bottlenecks', \t'boycott', \t'boycotted', \t'boycotting', \t'boycotts', \t'breach', \t'breached', \t'breaches', \t'breaching', \t'break', \t'breakage', \t'breakages', \t'breakdown', \t'breakdowns', \t'breaking', \t'breaks', \t'bribe', \t'bribed', \t'briberies', \t'bribery', \t'bribes', \t'bribing', \t'bridge', \t'broken', \t'burden', \t'burdened', \t'burdening', \t'burdens', \t'burdensome', \t'burned', \t'calamities', \t'calamitous', \t'calamity', \t'cancel', \t'canceled', \t'canceling', \t'cancellation', \t'cancellations', \t'cancelled', \t'cancelling', \t'cancels', \t'careless', \t'carelessly', \t'carelessness', \t'catastrophe', \t'catastrophes', \t'catastrophic', \t'catastrophically', \t'caution', \t'cautionary', \t'cautioned', \t'cautioning', \t'cautions', \t'cease', \t'ceased', \t'ceases', \t'ceasing', \t'censure', \t'censured', \t'censures', \t'censuring', \t'challenge', \t'challenged', \t'challenges', \t'challenging', \t'chargeoffs', \t'circumvent', \t'circumvented', \t'circumventing', \t'circumvention', \t'circumventions', \t'circumvents', \t'claiming', \t'claims', \t'clawback', \t'closed', \t'closeout', \t'closeouts', \t'closing', \t'closings', \t'closure', \t'closures', \t'coerce', \t'coerced', \t'coerces', \t'coercing', \t'coercion', \t'coercive', \t'collapse', \t'collapsed', \t'collapses', \t'collapsing', \t'collision', \t'collisions', \t'collude', \t'colluded', \t'colludes', \t'colluding', \t'collusion', \t'collusions', \t'collusive', \t'complain', \t'complained', \t'complaining', \t'complains', \t'complaint', \t'complaints', \t'complicate', \t'complicated', \t'complicates', \t'complicating', \t'complication', \t'complications', \t'compulsion', \t'concealed', \t'concealing', \t'concede', \t'conceded', \t'concedes', \t'conceding', \t'concern', \t'concerned', \t'concerns', \t'conciliating', \t'conciliation', \t'conciliations', \t'condemn', \t'condemnation', \t'condemnations', \t'condemned', \t'condemning', \t'condemns', \t'condone', \t'condoned', \t'confess', \t'confessed', \t'confesses', \t'confessing', \t'confession', \t'confine', \t'confined', \t'confinement', \t'confinements', \t'confines', \t'confining', \t'confiscate', \t'confiscated', \t'confiscates', \t'confiscating', \t'confiscation', \t'confiscations', \t'conflict', \t'conflicted', \t'conflicting', \t'conflicts', \t'confront', \t'confrontation', \t'confrontational', \t'confrontations', \t'confronted', \t'confronting', \t'confronts', \t'confuse', \t'confused', \t'confuses', \t'confusing', \t'confusingly', \t'confusion', \t'conspiracies', \t'conspiracy', \t'conspirator', \t'conspiratorial', \t'conspirators', \t'conspire', \t'conspired', \t'conspires', \t'conspiring', \t'contempt', \t'contend', \t'contended', \t'contending', \t'contends', \t'contention', \t'contentions', \t'contentious', \t'contentiously', \t'contested', \t'contesting', \t'contraction', \t'contractions', \t'contradict', \t'contradicted', \t'contradicting', \t'contradiction', \t'contradictions', \t'contradictory', \t'contradicts', \t'contrary', \t'controversial', \t'controversies', \t'controversy', \t'convict', \t'convicted', \t'convicting', \t'conviction', \t'convictions', \t'corrected', \t'correcting', \t'correction', \t'corrections', \t'corrects', \t'corrupt', \t'corrupted', \t'corrupting', \t'corruption', \t'corruptions', \t'corruptly', \t'corruptness', \t'costly', \t'counterclaim', \t'counterclaimed', \t'counterclaiming', \t'counterclaims', \t'counterfeit', \t'counterfeited', \t'counterfeiter', \t'counterfeiters', \t'counterfeiting', \t'counterfeits', \t'countermeasure', \t'countermeasures', \t'crime', \t'crimes', \t'criminal', \t'criminally', \t'criminals', \t'crises', \t'crisis', \t'critical', \t'critically', \t'criticism', \t'criticisms', \t'criticize', \t'criticized', \t'criticizes', \t'criticizing', \t'crucial', \t'crucially', \t'culpability', \t'culpable', \t'culpably', \t'cumbersome', \t'curtail', \t'curtailed', \t'curtailing', \t'curtailment', \t'curtailments', \t'curtails', \t'cut', \t'cutback', \t'cutbacks', \t'cyberattack', \t'cyberattacks', \t'cyberbullying', \t'cybercrime', \t'cybercrimes', \t'cybercriminal', \t'cybercriminals', \t'damage', \t'damaged', \t'damages', \t'damaging', \t'dampen', \t'dampened', \t'danger', \t'dangerous', \t'dangerously', \t'dangers', \t'deadlock', \t'deadlocked', \t'deadlocking', \t'deadlocks', \t'deadweight', \t'deadweights', \t'debarment', \t'debarments', \t'debarred', \t'deceased', \t'deceit', \t'deceitful', \t'deceitfulness', \t'deceive', \t'deceived', \t'deceives', \t'deceiving', \t'deception', \t'deceptions', \t'deceptive', \t'deceptively', \t'decline', \t'declined', \t'declines', \t'declining', \t'deface', \t'defaced', \t'defacement', \t'defamation', \t'defamations', \t'defamatory', \t'defame', \t'defamed', \t'defames', \t'defaming', \t'default', \t'defaulted', \t'defaulting', \t'defaults', \t'defeat', \t'defeated', \t'defeating', \t'defeats', \t'defect', \t'defective', \t'defects', \t'defend', \t'defendant', \t'defendants', \t'defended', \t'defending', \t'defends', \t'defensive', \t'defer', \t'deficiencies', \t'deficiency', \t'deficient', \t'deficit', \t'deficits', \t'defraud', \t'defrauded', \t'defrauding', \t'defrauds', \t'defunct', \t'degradation', \t'degradations', \t'degrade', \t'degraded', \t'degrades', \t'degrading', \t'delay', \t'delayed', \t'delaying', \t'delays', \t'deleterious', \t'deliberate', \t'deliberated', \t'deliberately', \t'delinquencies', \t'delinquency', \t'delinquent', \t'delinquently', \t'delinquents', \t'delist', \t'delisted', \t'delisting', \t'delists', \t'demise', \t'demised', \t'demises', \t'demising', \t'demolish', \t'demolished', \t'demolishes', \t'demolishing', \t'demolition', \t'demolitions', \t'demote', \t'demoted', \t'demotes', \t'demoting', \t'demotion', \t'demotions', \t'denial', \t'denials', \t'denied', \t'denies', \t'denigrate', \t'denigrated', \t'denigrates', \t'denigrating', \t'denigration', \t'deny', \t'denying', \t'deplete', \t'depleted', \t'depletes', \t'depleting', \t'depletion', \t'depletions', \t'deprecation', \t'depress', \t'depressed', \t'depresses', \t'depressing', \t'deprivation', \t'deprive', \t'deprived', \t'deprives', \t'depriving', \t'derelict', \t'dereliction', \t'derogatory', \t'destabilization', \t'destabilize', \t'destabilized', \t'destabilizing', \t'destroy', \t'destroyed', \t'destroying', \t'destroys', \t'destruction', \t'destructive', \t'detain', \t'detained', \t'detention', \t'detentions', \t'deter', \t'deteriorate', \t'deteriorated', \t'deteriorates', \t'deteriorating', \t'deterioration', \t'deteriorations', \t'deterred', \t'deterrence', \t'deterrences', \t'deterrent', \t'deterrents', \t'deterring', \t'deters', \t'detract', \t'detracted', \t'detracting', \t'detriment', \t'detrimental', \t'detrimentally', \t'detriments', \t'devalue', \t'devalued', \t'devalues', \t'devaluing', \t'devastate', \t'devastated', \t'devastating', \t'devastation', \t'deviate', \t'deviated', \t'deviates', \t'deviating', \t'deviation', \t'deviations', \t'devolve', \t'devolved', \t'devolves', \t'devolving', \t'difficult', \t'difficulties', \t'difficultly', \t'difficulty', \t'diminish', \t'diminished', \t'diminishes', \t'diminishing', \t'diminution', \t'disadvantage', \t'disadvantaged', \t'disadvantageous', \t'disadvantages', \t'disaffiliation', \t'disagree', \t'disagreeable', \t'disagreed', \t'disagreeing', \t'disagreement', \t'disagreements', \t'disagrees', \t'disallow', \t'disallowance', \t'disallowances', \t'disallowed', \t'disallowing', \t'disallows', \t'disappear', \t'disappearance', \t'disappearances', \t'disappeared', \t'disappearing', \t'disappears', \t'disappoint', \t'disappointed', \t'disappointing', \t'disappointingly', \t'disappointment', \t'disappointments', \t'disappoints', \t'disapproval', \t'disapprovals', \t'disapprove', \t'disapproved', \t'disapproves', \t'disapproving', \t'disassociates', \t'disassociating', \t'disassociation', \t'disassociations', \t'disaster', \t'disasters', \t'disastrous', \t'disastrously', \t'disavow', \t'disavowal', \t'disavowed', \t'disavowing', \t'disavows', \t'disciplinary', \t'disclaim', \t'disclaimed', \t'disclaimer', \t'disclaimers', \t'disclaiming', \t'disclaims', \t'disclose', \t'disclosed', \t'discloses', \t'disclosing', \t'discontinuance', \t'discontinuances', \t'discontinuation', \t'discontinuations', \t'discontinue', \t'discontinued', \t'discontinues', \t'discontinuing', \t'discourage', \t'discouraged', \t'discourages', \t'discouraging', \t'discredit', \t'discredited', \t'discrediting', \t'discredits', \t'discrepancies', \t'discrepancy', \t'disfavor', \t'disfavored', \t'disfavoring', \t'disfavors', \t'disgorge', \t'disgorged', \t'disgorgement', \t'disgorgements', \t'disgorges', \t'disgorging', \t'disgrace', \t'disgraceful', \t'disgracefully', \t'dishonest', \t'dishonestly', \t'dishonesty', \t'dishonor', \t'dishonorable', \t'dishonorably', \t'dishonored', \t'dishonoring', \t'dishonors', \t'disincentives', \t'disinterested', \t'disinterestedly', \t'disinterestedness', \t'disloyal', \t'disloyally', \t'disloyalty', \t'dismal', \t'dismally', \t'dismiss', \t'dismissal', \t'dismissals', \t'dismissed', \t'dismisses', \t'dismissing', \t'disorderly', \t'disparage', \t'disparaged', \t'disparagement', \t'disparagements', \t'disparages', \t'disparaging', \t'disparagingly', \t'disparities', \t'disparity', \t'displace', \t'displaced', \t'displacement', \t'displacements', \t'displaces', \t'displacing', \t'dispose', \t'dispossess', \t'dispossessed', \t'dispossesses', \t'dispossessing', \t'disproportion', \t'disproportional', \t'disproportionate', \t'disproportionately', \t'dispute', \t'disputed', \t'disputes', \t'disputing', \t'disqualification', \t'disqualifications', \t'disqualified', \t'disqualifies', \t'disqualify', \t'disqualifying', \t'disregard', \t'disregarded', \t'disregarding', \t'disregards', \t'disreputable', \t'disrepute', \t'disrupt', \t'disrupted', \t'disrupting', \t'disruption', \t'disruptions', \t'disruptive', \t'disrupts', \t'dissatisfaction', \t'dissatisfied', \t'dissent', \t'dissented', \t'dissenter', \t'dissenters', \t'dissenting', \t'dissents', \t'dissident', \t'dissidents', \t'dissolution', \t'dissolutions', \t'distort', \t'distorted', \t'distorting', \t'distortion', \t'distortions', \t'distorts', \t'distract', \t'distracted', \t'distracting', \t'distraction', \t'distractions', \t'distracts', \t'distress', \t'distressed', \t'disturb', \t'disturbance', \t'disturbances', \t'disturbed', \t'disturbing', \t'disturbs', \t'diversion', \t'divert', \t'diverted', \t'diverting', \t'diverts', \t'divest', \t'divested', \t'divesting', \t'divestiture', \t'divestitures', \t'divestment', \t'divestments', \t'divests', \t'divorce', \t'divorced', \t'divulge', \t'divulged', \t'divulges', \t'divulging', \t'doubt', \t'doubted', \t'doubtful', \t'doubts', \t'downgrade', \t'downgraded', \t'downgrades', \t'downgrading', \t'downsize', \t'downsized', \t'downsizes', \t'downsizing', \t'downsizings', \t'downtime', \t'downtimes', \t'downturn', \t'downturns', \t'downward', \t'downwards', \t'drag', \t'drastic', \t'drastically', \t'drawback', \t'drawbacks', \t'dropped', \t'drought', \t'droughts', \t'duress', \t'dysfunction', \t'dysfunctional', \t'dysfunctions', \t'easing', \t'egregious', \t'egregiously', \t'embargo', \t'embargoed', \t'embargoes', \t'embargoing', \t'embarrass', \t'embarrassed', \t'embarrasses', \t'embarrassing', \t'embarrassment', \t'embarrassments', \t'embezzle', \t'embezzled', \t'embezzlement', \t'embezzlements', \t'embezzler', \t'embezzles', \t'embezzling', \t'encroach', \t'encroached', \t'encroaches', \t'encroaching', \t'encroachment', \t'encroachments', \t'encumber', \t'encumbered', \t'encumbering', \t'encumbers', \t'encumbrance', \t'encumbrances', \t'endanger', \t'endangered', \t'endangering', \t'endangerment', \t'endangers', \t'enjoin', \t'enjoined', \t'enjoining', \t'enjoins', \t'erode', \t'eroded', \t'erodes', \t'eroding', \t'erosion', \t'erratic', \t'erratically', \t'erred', \t'erring', \t'erroneous', \t'erroneously', \t'error', \t'errors', \t'errs', \t'escalate', \t'escalated', \t'escalates', \t'escalating', \t'evade', \t'evaded', \t'evades', \t'evading', \t'evasion', \t'evasions', \t'evasive', \t'evict', \t'evicted', \t'evicting', \t'eviction', \t'evictions', \t'evicts', \t'exacerbate', \t'exacerbated', \t'exacerbates', \t'exacerbating', \t'exacerbation', \t'exacerbations', \t'exaggerate', \t'exaggerated', \t'exaggerates', \t'exaggerating', \t'exaggeration', \t'excessive', \t'excessively', \t'exculpate', \t'exculpated', \t'exculpates', \t'exculpating', \t'exculpation', \t'exculpations', \t'exculpatory', \t'exonerate', \t'exonerated', \t'exonerates', \t'exonerating', \t'exoneration', \t'exonerations', \t'exploit', \t'exploitation', \t'exploitations', \t'exploitative', \t'exploited', \t'exploiting', \t'exploits', \t'expose', \t'exposed', \t'exposes', \t'exposing', \t'expropriate', \t'expropriated', \t'expropriates', \t'expropriating', \t'expropriation', \t'expropriations', \t'expulsion', \t'expulsions', \t'extenuating', \t'fail', \t'failed', \t'failing', \t'failings', \t'fails', \t'failure', \t'failures', \t'fallout', \t'false', \t'falsely', \t'falsification', \t'falsifications', \t'falsified', \t'falsifies', \t'falsify', \t'falsifying', \t'falsity', \t'fatalities', \t'fatality', \t'fatally', \t'fault', \t'faulted', \t'faults', \t'faulty', \t'fear', \t'fears', \t'felonies', \t'felonious', \t'felony', \t'fictitious', \t'fined', \t'fines', \t'fired', \t'firing', \t'flaw', \t'flawed', \t'flaws', \t'forbid', \t'forbidden', \t'forbidding', \t'forbids', \t'force', \t'forced', \t'forcing', \t'foreclose', \t'foreclosed', \t'forecloses', \t'foreclosing', \t'foreclosure', \t'foreclosures', \t'forego', \t'foregoes', \t'foregone', \t'forestall', \t'forestalled', \t'forestalling', \t'forestalls', \t'forfeit', \t'forfeited', \t'forfeiting', \t'forfeits', \t'forfeiture', \t'forfeitures', \t'forgers', \t'forgery', \t'fraud', \t'frauds', \t'fraudulence', \t'fraudulent', \t'fraudulently', \t'frivolous', \t'frivolously', \t'frustrate', \t'frustrated', \t'frustrates', \t'frustrating', \t'frustratingly', \t'frustration', \t'frustrations', \t'fugitive', \t'fugitives', \t'gratuitous', \t'gratuitously', \t'grievance', \t'grievances', \t'grossly', \t'groundless', \t'guilty', \t'halt', \t'halted', \t'hamper', \t'hampered', \t'hampering', \t'hampers', \t'harass', \t'harassed', \t'harassing', \t'harassment', \t'hardship', \t'hardships', \t'harm', \t'harmed', \t'harmful', \t'harmfully', \t'harming', \t'harms', \t'harsh', \t'harsher', \t'harshest', \t'harshly', \t'harshness', \t'hazard', \t'hazardous', \t'hazards', \t'hinder', \t'hindered', \t'hindering', \t'hinders', \t'hindrance', \t'hindrances', \t'hostile', \t'hostility', \t'hurt', \t'hurting', \t'idle', \t'idled', \t'idling', \t'ignore', \t'ignored', \t'ignores', \t'ignoring', \t'ill', \t'illegal', \t'illegalities', \t'illegality', \t'illegally', \t'illegible', \t'illicit', \t'illicitly', \t'illiquid', \t'illiquidity', \t'imbalance', \t'imbalances', \t'immature', \t'immoral', \t'impair', \t'impaired', \t'impairing', \t'impairment', \t'impairments', \t'impairs', \t'impasse', \t'impasses', \t'impede', \t'impeded', \t'impedes', \t'impediment', \t'impediments', \t'impeding', \t'impending', \t'imperative', \t'imperfection', \t'imperfections', \t'imperil', \t'impermissible', \t'implicate', \t'implicated', \t'implicates', \t'implicating', \t'impossibility', \t'impossible', \t'impound', \t'impounded', \t'impounding', \t'impounds', \t'impracticable', \t'impractical', \t'impracticalities', \t'impracticality', \t'imprisonment', \t'improper', \t'improperly', \t'improprieties', \t'impropriety', \t'imprudent', \t'imprudently', \t'inability', \t'inaccessible', \t'inaccuracies', \t'inaccuracy', \t'inaccurate', \t'inaccurately', \t'inaction', \t'inactions', \t'inactivate', \t'inactivated', \t'inactivates', \t'inactivating', \t'inactivation', \t'inactivations', \t'inactivity', \t'inadequacies', \t'inadequacy', \t'inadequate', \t'inadequately', \t'inadvertent', \t'inadvertently', \t'inadvisability', \t'inadvisable', \t'inappropriate', \t'inappropriately', \t'inattention', \t'incapable', \t'incapacitated', \t'incapacity', \t'incarcerate', \t'incarcerated', \t'incarcerates', \t'incarcerating', \t'incarceration', \t'incarcerations', \t'incidence', \t'incidences', \t'incident', \t'incidents', \t'incompatibilities', \t'incompatibility', \t'incompatible', \t'incompetence', \t'incompetency', \t'incompetent', \t'incompetently', \t'incompetents', \t'incomplete', \t'incompletely', \t'incompleteness', \t'inconclusive', \t'inconsistencies', \t'inconsistency', \t'inconsistent', \t'inconsistently', \t'inconvenience', \t'inconveniences', \t'inconvenient', \t'incorrect', \t'incorrectly', \t'incorrectness', \t'indecency', \t'indecent', \t'indefeasible', \t'indefeasibly', \t'indict', \t'indictable', \t'indicted', \t'indicting', \t'indictment', \t'indictments', \t'ineffective', \t'ineffectively', \t'ineffectiveness', \t'inefficiencies', \t'inefficiency', \t'inefficient', \t'inefficiently', \t'ineligibility', \t'ineligible', \t'inequitable', \t'inequitably', \t'inequities', \t'inequity', \t'inevitable', \t'inexperience', \t'inexperienced', \t'inferior', \t'inflicted', \t'infraction', \t'infractions', \t'infringe', \t'infringed', \t'infringement', \t'infringements', \t'infringes', \t'infringing', \t'inhibited', \t'inimical', \t'injunction', \t'injunctions', \t'injure', \t'injured', \t'injures', \t'injuries', \t'injuring', \t'injurious', \t'injury', \t'inordinate', \t'inordinately', \t'inquiry', \t'insecure', \t'insensitive', \t'insolvencies', \t'insolvency', \t'insolvent', \t'instability', \t'insubordination', \t'insufficiency', \t'insufficient', \t'insufficiently', \t'insurrection', \t'insurrections', \t'intentional', \t'interfere', \t'interfered', \t'interference', \t'interferences', \t'interferes', \t'interfering', \t'intermittent', \t'intermittently', \t'interrupt', \t'interrupted', \t'interrupting', \t'interruption', \t'interruptions', \t'interrupts', \t'intimidation', \t'intrusion', \t'invalid', \t'invalidate', \t'invalidated', \t'invalidates', \t'invalidating', \t'invalidation', \t'invalidity', \t'investigate', \t'investigated', \t'investigates', \t'investigating', \t'investigation', \t'investigations', \t'involuntarily', \t'involuntary', \t'irreconcilable', \t'irreconcilably', \t'irrecoverable', \t'irrecoverably', \t'irregular', \t'irregularities', \t'irregularity', \t'irregularly', \t'irreparable', \t'irreparably', \t'irreversible', \t'jeopardize', \t'jeopardized', \t'justifiable', \t'kickback', \t'kickbacks', \t'knowingly', \t'lack', \t'lacked', \t'lacking', \t'lackluster', \t'lacks', \t'lag', \t'lagged', \t'lagging', \t'lags', \t'lapse', \t'lapsed', \t'lapses', \t'lapsing', \t'late', \t'laundering', \t'layoff', \t'layoffs', \t'lie', \t'limitation', \t'limitations', \t'lingering', \t'liquidate', \t'liquidated', \t'liquidates', \t'liquidating', \t'liquidation', \t'liquidations', \t'liquidator', \t'liquidators', \t'litigant', \t'litigants', \t'litigate', \t'litigated', \t'litigates', \t'litigating', \t'litigation', \t'litigations', \t'lockout', \t'lockouts', \t'lose', \t'loses', \t'losing', \t'loss', \t'losses', \t'lost', \t'lying', \t'malfeasance', \t'malfunction', \t'malfunctioned', \t'malfunctioning', \t'malfunctions', \t'malice', \t'malicious', \t'maliciously', \t'malpractice', \t'manipulate', \t'manipulated', \t'manipulates', \t'manipulating', \t'manipulation', \t'manipulations', \t'manipulative', \t'markdown', \t'markdowns', \t'misapplication', \t'misapplications', \t'misapplied', \t'misapplies', \t'misapply', \t'misapplying', \t'misappropriate', \t'misappropriated', \t'misappropriates', \t'misappropriating', \t'misappropriation', \t'misappropriations', \t'misbranded', \t'miscalculate', \t'miscalculated', \t'miscalculates', \t'miscalculating', \t'miscalculation', \t'miscalculations', \t'mischaracterization', \t'mischief', \t'misclassification', \t'misclassifications', \t'misclassified', \t'misclassify', \t'miscommunication', \t'misconduct', \t'misdated', \t'misdemeanor', \t'misdemeanors', \t'misdirected', \t'mishandle', \t'mishandled', \t'mishandles', \t'mishandling', \t'misinform', \t'misinformation', \t'misinformed', \t'misinforming', \t'misinforms', \t'misinterpret', \t'misinterpretation', \t'misinterpretations', \t'misinterpreted', \t'misinterpreting', \t'misinterprets', \t'misjudge', \t'misjudged', \t'misjudges', \t'misjudging', \t'misjudgment', \t'misjudgments', \t'mislabel', \t'mislabeled', \t'mislabeling', \t'mislabelled', \t'mislabels', \t'mislead', \t'misleading', \t'misleadingly', \t'misleads', \t'misled', \t'mismanage', \t'mismanaged', \t'mismanagement', \t'mismanages', \t'mismanaging', \t'mismatch', \t'mismatched', \t'mismatches', \t'mismatching', \t'misplaced', \t'misprice', \t'mispricing', \t'mispricings', \t'misrepresent', \t'misrepresentation', \t'misrepresentations', \t'misrepresented', \t'misrepresenting', \t'misrepresents', \t'miss', \t'missed', \t'misses', \t'misstate', \t'misstated', \t'misstatement', \t'misstatements', \t'misstates', \t'misstating', \t'misstep', \t'missteps', \t'mistake', \t'mistaken', \t'mistakenly', \t'mistakes', \t'mistaking', \t'mistrial', \t'mistrials', \t'misunderstand', \t'misunderstanding', \t'misunderstandings', \t'misunderstood', \t'misuse', \t'misused', \t'misuses', \t'misusing', \t'monopolistic', \t'monopolists', \t'monopolization', \t'monopolize', \t'monopolized', \t'monopolizes', \t'monopolizing', \t'monopoly', \t'moratoria', \t'moratorium', \t'moratoriums', \t'mothballed', \t'mothballing', \t'negative', \t'negatively', \t'negatives', \t'neglect', \t'neglected', \t'neglectful', \t'neglecting', \t'neglects', \t'negligence', \t'negligences', \t'negligent', \t'negligently', \t'nonattainment', \t'noncompetitive', \t'noncompliance', \t'noncompliances', \t'noncompliant', \t'noncomplying', \t'nonconforming', \t'nonconformities', \t'nonconformity', \t'nondisclosure', \t'nonfunctional', \t'nonpayment', \t'nonpayments', \t'nonperformance', \t'nonperformances', \t'nonperforming', \t'nonproducing', \t'nonproductive', \t'nonrecoverable', \t'nonrenewal', \t'nuisance', \t'nuisances', \t'nullification', \t'nullifications', \t'nullified', \t'nullifies', \t'nullify', \t'nullifying', \t'objected', \t'objecting', \t'objection', \t'objectionable', \t'objectionably', \t'objections', \t'obscene', \t'obscenity', \t'obsolescence', \t'obsolete', \t'obstacle', \t'obstacles', \t'obstruct', \t'obstructed', \t'obstructing', \t'obstruction', \t'obstructions', \t'offence', \t'offences', \t'offend', \t'offended', \t'offender', \t'offenders', \t'offending', \t'offends', \t'omission', \t'omissions', \t'omit', \t'omits', \t'omitted', \t'omitting', \t'onerous', \t'opportunistic', \t'opportunistically', \t'oppose', \t'opposed', \t'opposes', \t'opposing', \t'opposition', \t'oppositions', \t'outage', \t'outages', \t'outdated', \t'outmoded', \t'overage', \t'overages', \t'overbuild', \t'overbuilding', \t'overbuilds', \t'overbuilt', \t'overburden', \t'overburdened', \t'overburdening', \t'overcapacities', \t'overcapacity', \t'overcharge', \t'overcharged', \t'overcharges', \t'overcharging', \t'overcome', \t'overcomes', \t'overcoming', \t'overdue', \t'overestimate', \t'overestimated', \t'overestimates', \t'overestimating', \t'overestimation', \t'overestimations', \t'overload', \t'overloaded', \t'overloading', \t'overloads', \t'overlook', \t'overlooked', \t'overlooking', \t'overlooks', \t'overpaid', \t'overpayment', \t'overpayments', \t'overproduced', \t'overproduces', \t'overproducing', \t'overproduction', \t'overrun', \t'overrunning', \t'overruns', \t'overshadow', \t'overshadowed', \t'overshadowing', \t'overshadows', \t'overstate', \t'overstated', \t'overstatement', \t'overstatements', \t'overstates', \t'overstating', \t'oversupplied', \t'oversupplies', \t'oversupply', \t'oversupplying', \t'overtly', \t'overturn', \t'overturned', \t'overturning', \t'overturns', \t'overvalue', \t'overvalued', \t'overvaluing', \t'panic', \t'panics', \t'penalize', \t'penalized', \t'penalizes', \t'penalizing', \t'penalties', \t'penalty', \t'peril', \t'perils', \t'perjury', \t'perpetrate', \t'perpetrated', \t'perpetrates', \t'perpetrating', \t'perpetration', \t'persist', \t'persisted', \t'persistence', \t'persistent', \t'persistently', \t'persisting', \t'persists', \t'pervasive', \t'pervasively', \t'pervasiveness', \t'petty', \t'picket', \t'picketed', \t'picketing', \t'plaintiff', \t'plaintiffs', \t'plea', \t'plead', \t'pleaded', \t'pleading', \t'pleadings', \t'pleads', \t'pleas', \t'pled', \t'poor', \t'poorly', \t'poses', \t'posing', \t'postpone', \t'postponed', \t'postponement', \t'postponements', \t'postpones', \t'postponing', \t'precipitated', \t'precipitous', \t'precipitously', \t'preclude', \t'precluded', \t'precludes', \t'precluding', \t'predatory', \t'prejudice', \t'prejudiced', \t'prejudices', \t'prejudicial', \t'prejudicing', \t'premature', \t'prematurely', \t'pressing', \t'pretrial', \t'preventing', \t'prevention', \t'prevents', \t'problem', \t'problematic', \t'problematical', \t'problems', \t'prolong', \t'prolongation', \t'prolongations', \t'prolonged', \t'prolonging', \t'prolongs', \t'prone', \t'prosecute', \t'prosecuted', \t'prosecutes', \t'prosecuting', \t'prosecution', \t'prosecutions', \t'protest', \t'protested', \t'protester', \t'protesters', \t'protesting', \t'protestor', \t'protestors', \t'protests', \t'protracted', \t'protraction', \t'provoke', \t'provoked', \t'provokes', \t'provoking', \t'punished', \t'punishes', \t'punishing', \t'punishment', \t'punishments', \t'punitive', \t'purport', \t'purported', \t'purportedly', \t'purporting', \t'purports', 'questionable', \t'questionably', \t'questioned', \t'questioning', 'quit', \t'quitting', \t'racketeer', \t'racketeering', \t'rationalization', \t'rationalizations', \t'rationalize', \t'rationalized', \t'rationalizes', \t'rationalizing', \t'reassessment', \t'reassessments', \t'reassign', \t'reassigned', \t'reassigning', \t'reassignment', \t'reassignments', \t'reassigns', \t'recall', \t'recalled', \t'recalling', \t'recalls', \t'recession', \t'recessionary', \t'recessions', \t'reckless', \t'recklessly', \t'recklessness', \t'redact', \t'redacted', \t'redacting', \t'redaction', \t'redactions', \t'redefault', \t'redefaulted', \t'redefaults', \t'redress', \t'redressed', \t'redresses', \t'redressing', \t'refusal', \t'refusals', \t'refuse', \t'refused', \t'refuses', \t'refusing', \t'reject', \t'rejected', \t'rejecting', \t'rejection', \t'rejections', \t'rejects', \t'relinquish', \t'relinquished', \t'relinquishes', \t'relinquishing', \t'relinquishment', \t'relinquishments', \t'reluctance', \t'reluctant', \t'renegotiate', \t'renegotiated', \t'renegotiates', \t'renegotiating', \t'renegotiation', \t'renegotiations', \t'renounce', \t'renounced', \t'renouncement', \t'renouncements', \t'renounces', \t'renouncing', \t'reparation', \t'reparations', \t'repossessed', \t'repossesses', \t'repossessing', \t'repossession', \t'repossessions', \t'repudiate', \t'repudiated', \t'repudiates', \t'repudiating', \t'repudiation', \t'repudiations', \t'resign', \t'resignation', \t'resignations', \t'resigned', \t'resigning', \t'resigns', \t'restate', \t'restated', \t'restatement', \t'restatements', \t'restates', \t'restating', \t'restructure', \t'restructured', \t'restructures', \t'restructuring', \t'restructurings', \t'retaliate', \t'retaliated', \t'retaliates', \t'retaliating', \t'retaliation', \t'retaliations', \t'retaliatory', \t'retribution', \t'retributions', \t'revocation', \t'revocations', \t'revoke', \t'revoked', \t'revokes', \t'revoking', \t'ridicule', \t'ridiculed', \t'ridicules', \t'ridiculing', \t'riskier', \t'riskiest', \t'risky', \t'sabotage', \t'sacrifice', \t'sacrificed', \t'sacrifices', \t'sacrificial', \t'sacrificing', \t'scandalous', \t'scandals', \t'scrutinize', \t'scrutinized', \t'scrutinizes', \t'scrutinizing', \t'scrutiny', \t'secrecy', \t'seize', \t'seized', \t'seizes', \t'seizing', \t'sentenced', \t'sentencing', \t'serious', \t'seriously', \t'seriousness', \t'setback', \t'setbacks', \t'sever', \t'severe', \t'severed', \t'severely', \t'severities', \t'severity', \t'sharply', \t'shocked', \t'shortage', \t'shortages', \t'shortfall', \t'shortfalls', \t'shrinkage', \t'shrinkages', \t'shut', \t'shutdown', \t'shutdowns', \t'shuts', \t'shutting', \t'slander', \t'slandered', \t'slanderous', \t'slanders', \t'slippage', \t'slippages', \t'slow', \t'slowdown', \t'slowdowns', \t'slowed', \t'slower', \t'slowest', \t'slowing', \t'slowly', \t'slowness', \t'sluggish', \t'sluggishly', \t'sluggishness', \t'solvencies', \t'solvency', \t'spam', \t'spammers', \t'spamming', \t'staggering', \t'stagnant', \t'stagnate', \t'stagnated', \t'stagnates', \t'stagnating', \t'stagnation', \t'standstill', \t'standstills', \t'stolen', \t'stoppage', \t'stoppages', \t'stopped', \t'stopping', \t'stops', \t'strain', \t'strained', \t'straining', \t'strains', \t'stress', \t'stressed', \t'stresses', \t'stressful', \t'stressing', \t'stringent', \t'subjected', \t'subjecting', \t'subjection', \t'subpoena', \t'subpoenaed', \t'subpoenas', \t'substandard', \t'sue', \t'sued', \t'sues', \t'suffer', \t'suffered', \t'suffering', \t'suffers', \t'suing', \t'summoned', \t'summoning', \t'summons', \t'summonses', \t'susceptibility', \t'susceptible', \t'suspect', \t'suspected', \t'suspects', \t'suspend', \t'suspended', \t'suspending', \t'suspends', \t'suspension', \t'suspensions', \t'suspicion', \t'suspicions', \t'suspicious', \t'suspiciously', \t'taint', \t'tainted', \t'tainting', \t'taints', \t'tampered', \t'tense', \t'terminate', \t'terminated', \t'terminates', \t'terminating', \t'termination', \t'terminations', \t'testify', \t'testifying', \t'threat', \t'threaten', \t'threatened', \t'threatening', \t'threatens', \t'threats', \t'tightening', \t'tolerate', \t'tolerated', \t'tolerates', \t'tolerating', \t'toleration', \t'tortuous', \t'tortuously', \t'tragedies', \t'tragedy', \t'tragic', \t'tragically', \t'traumatic', \t'trouble', \t'troubled', \t'troubles', \t'turbulence', \t'turmoil', \t'unable', \t'unacceptable', \t'unacceptably', \t'unaccounted', \t'unannounced', \t'unanticipated', \t'unapproved', \t'unattractive', \t'unauthorized', \t'unavailability', \t'unavailable', \t'unavoidable', \t'unavoidably', \t'unaware', \t'uncollectable', \t'uncollected', \t'uncollectibility', \t'uncollectible', \t'uncollectibles', \t'uncompetitive', \t'uncompleted', \t'unconscionable', \t'unconscionably', \t'uncontrollable', \t'uncontrollably', \t'uncontrolled', \t'uncorrected', \t'uncover', \t'uncovered', \t'uncovering', \t'uncovers', \t'undeliverable', \t'undelivered', \t'undercapitalized', \t'undercut', \t'undercuts', \t'undercutting', \t'underestimate', \t'underestimated', \t'underestimates', \t'underestimating', \t'underestimation', \t'underfunded', \t'underinsured', \t'undermine', \t'undermined', \t'undermines', \t'undermining', \t'underpaid', \t'underpayment', \t'underpayments', \t'underpays', \t'underperform', \t'underperformance', \t'underperformed', \t'underperforming', \t'underperforms', \t'underproduced', \t'underproduction', \t'underreporting', \t'understate', \t'understated', \t'understatement', \t'understatements', \t'understates', \t'understating', \t'underutilization', \t'underutilized', \t'undesirable', \t'undesired', \t'undetected', \t'undetermined', \t'undisclosed', \t'undocumented', \t'undue', \t'unduly', \t'uneconomic', \t'uneconomical', \t'uneconomically', \t'unemployed', \t'unemployment', \t'unethical', \t'unethically', \t'unexcused', \t'unexpected', \t'unexpectedly', \t'unfair', \t'unfairly', \t'unfavorability', \t'unfavorable', \t'unfavorably', \t'unfavourable', \t'unfeasible', \t'unfit', \t'unfitness', \t'unforeseeable', \t'unforeseen', \t'unforseen', \t'unfortunate', \t'unfortunately', \t'unfounded', \t'unfriendly', \t'unfulfilled', \t'unfunded', \t'uninsured', \t'unintended', \t'unintentional', \t'unintentionally', \t'unjust', \t'unjustifiable', \t'unjustifiably', \t'unjustified', \t'unjustly', \t'unknowing', \t'unknowingly', \t'unlawful', \t'unlawfully', \t'unlicensed', \t'unliquidated', \t'unmarketable', \t'unmerchantable', \t'unmeritorious', \t'unnecessarily', \t'unnecessary', \t'unneeded', \t'unobtainable', \t'unoccupied', \t'unpaid', \t'unperformed', \t'unplanned', \t'unpopular', \t'unpredictability', \t'unpredictable', \t'unpredictably', \t'unpredicted', \t'unproductive', \t'unprofitability', \t'unprofitable', \t'unqualified', \t'unrealistic', \t'unreasonable', \t'unreasonableness', \t'unreasonably', \t'unreceptive', \t'unrecoverable', \t'unrecovered', \t'unreimbursed', \t'unreliable', \t'unremedied', \t'unreported', \t'unresolved', \t'unrest', \t'unsafe', \t'unsalable', \t'unsaleable', \t'unsatisfactory', \t'unsatisfied', \t'unsavory', \t'unscheduled', \t'unsellable', \t'unsold', \t'unsound', \t'unstabilized', \t'unstable', \t'unsubstantiated', \t'unsuccessful', \t'unsuccessfully', \t'unsuitability', \t'unsuitable', \t'unsuitably', \t'unsuited', \t'unsure', \t'unsuspected', \t'unsuspecting', \t'unsustainable', \t'untenable', \t'untimely', \t'untrusted', \t'untruth', \t'untruthful', \t'untruthfully', \t'untruthfulness', \t'untruths', \t'unusable', \t'unwanted', \t'unwarranted', \t'unwelcome', \t'unwilling', \t'unwillingness', \t'upset', \t'urgency', \t'urgent', \t'usurious', \t'usurp', \t'usurped', \t'usurping', \t'usurps', \t'usury', \t'vandalism', \t'verdict', \t'verdicts', \t'vetoed', \t'victims', \t'violate', \t'violated', \t'violates', \t'violating', \t'violation', \t'violations', \t'violative', \t'violator', \t'violators', \t'violence', \t'violent', \t'violently', \t'vitiate', \t'vitiated', \t'vitiates', \t'vitiating', \t'vitiation', \t'voided', \t'voiding', \t'volatile', \t'volatility', \t'vulnerabilities', \t'vulnerability', \t'vulnerable', \t'vulnerably', \t'warn', \t'warned', \t'warning', \t'warnings', \t'warns', \t'wasted', \t'wasteful', \t'wasting', \t'weak', \t'weaken', \t'weakened', \t'weakening', \t'weakens', \t'weaker', \t'weakest', \t'weakly', \t'weakness', \t'weaknesses', \t'willfully', \t'worries', \t'worry', \t'worrying', \t'worse', \t'worsen', \t'worsened', \t'worsening', \t'worsens', \t'worst', \t'worthless', \t'writedown', \t'writedowns', \t'writeoff', \t'writeoffs', \t'wrong', \t'wrongdoing', \t'wrongdoings', \t'wrongful', \t'wrongfully', \t'wrongly']\n",
    "uncertain_words = ['abeyance', \t'abeyances', \t'almost', \t'alteration', \t'alterations', \t'ambiguities', \t'ambiguity', \t'ambiguous', \t'anomalies', \t'anomalous', \t'anomalously', \t'anomaly', \t'anticipate', \t'anticipated', \t'anticipates', \t'anticipating', \t'anticipation', \t'anticipations', \t'apparent', \t'apparently', \t'appear', \t'appeared', \t'appearing', \t'appears', \t'approximate', \t'approximated', \t'approximately', \t'approximates', \t'approximating', \t'approximation', \t'approximations', \t'arbitrarily', \t'arbitrariness', \t'arbitrary', \t'assume', \t'assumed', \t'assumes', \t'assuming', \t'assumption', \t'assumptions', \t'believe', \t'believed', \t'believes', \t'believing', \t'cautious', \t'cautiously', \t'cautiousness', \t'clarification', \t'clarifications', \t'conceivable', \t'conceivably', \t'conditional', \t'conditionally', \t'confuses', \t'confusing', \t'confusingly', \t'confusion', \t'contingencies', \t'contingency', \t'contingent', \t'contingently', \t'contingents', \t'could', \t'crossroad', \t'crossroads', \t'depend', \t'depended', \t'dependence', \t'dependencies', \t'dependency', \t'dependent', \t'depending', \t'depends', \t'destabilizing', \t'deviate', \t'deviated', \t'deviates', \t'deviating', \t'deviation', \t'deviations', \t'differ', \t'differed', \t'differing', \t'differs', \t'doubt', \t'doubted', \t'doubtful', \t'doubts', \t'exposure', \t'exposures', \t'fluctuate', \t'fluctuated', \t'fluctuates', \t'fluctuating', \t'fluctuation', \t'fluctuations', \t'hidden', \t'hinges', \t'imprecise', \t'imprecision', \t'imprecisions', \t'improbability', \t'improbable', \t'incompleteness', \t'indefinite', \t'indefinitely', \t'indefiniteness', \t'indeterminable', \t'indeterminate', \t'inexact', \t'inexactness', \t'instabilities', \t'instability', \t'intangible', \t'intangibles', \t'likelihood', \t'may', \t'maybe', \t'might', \t'nearly', \t'nonassessable', \t'occasionally', \t'ordinarily', \t'pending', \t'perhaps', \t'possibilities', \t'possibility', \t'possible', \t'possibly', \t'precaution', \t'precautionary', \t'precautions', \t'predict', \t'predictability', \t'predicted', \t'predicting', \t'prediction', \t'predictions', \t'predictive', \t'predictor', \t'predictors', \t'predicts', \t'preliminarily', \t'preliminary', \t'presumably', \t'presume', \t'presumed', \t'presumes', \t'presuming', \t'presumption', \t'presumptions', \t'probabilistic', \t'probabilities', \t'probability', \t'probable', \t'probably', \t'random', \t'randomize', \t'randomized', \t'randomizes', \t'randomizing', \t'randomly', \t'randomness', \t'reassess', \t'reassessed', \t'reassesses', \t'reassessing', \t'reassessment', \t'reassessments', \t'recalculate', \t'recalculated', \t'recalculates', \t'recalculating', \t'recalculation', \t'recalculations', \t'reconsider', \t'reconsidered', \t'reconsidering', \t'reconsiders', \t'reexamination', \t'reexamine', \t'reexamining', \t'reinterpret', \t'reinterpretation', \t'reinterpretations', \t'reinterpreted', \t'reinterpreting', \t'reinterprets', \t'revise', \t'revised', \t'risk', \t'risked', \t'riskier', \t'riskiest', \t'riskiness', \t'risking', \t'risks', \t'risky', \t'roughly', \t'rumors', \t'seems', \t'seldom', \t'seldomly', \t'sometime', \t'sometimes', \t'somewhat', \t'somewhere', \t'speculate', \t'speculated', \t'speculates', \t'speculating', \t'speculation', \t'speculations', \t'speculative', \t'speculatively', \t'sporadic', \t'sporadically', \t'sudden', \t'suddenly', \t'suggest', \t'suggested', \t'suggesting', \t'suggests', \t'susceptibility', \t'tending', \t'tentative', \t'tentatively', \t'turbulence', \t'uncertain', \t'uncertainly', \t'uncertainties', \t'uncertainty', \t'unclear', \t'unconfirmed', \t'undecided', \t'undefined', \t'undesignated', \t'undetectable', \t'undeterminable', \t'undetermined', \t'undocumented', \t'unexpected', \t'unexpectedly', \t'unfamiliar', \t'unfamiliarity', \t'unforecasted', \t'unforseen', \t'unguaranteed', \t'unhedged', \t'unidentifiable', \t'unidentified', \t'unknown', \t'unknowns', \t'unobservable', \t'unplanned', \t'unpredictability', \t'unpredictable', \t'unpredictably', \t'unpredicted', \t'unproved', \t'unproven', \t'unquantifiable', \t'unquantified', \t'unreconciled', \t'unseasonable', \t'unseasonably', \t'unsettled', \t'unspecific', \t'unspecified', \t'untested', \t'unusual', \t'unusually', \t'unwritten', \t'vagaries', \t'vague', \t'vaguely', \t'vagueness', \t'vaguenesses', \t'vaguer', \t'vaguest', \t'variability', \t'variable', \t'variables', \t'variably', \t'variance', \t'variances', \t'variant', \t'variants', \t'variation', \t'variations', \t'varied', \t'varies', \t'vary', \t'varying', \t'volatile', \t'volatilities', \t'volatility', ]"
   ]
  },
  {
   "cell_type": "markdown",
   "metadata": {},
   "source": [
    "**Deliverable 11:**\n",
    "* (A): Write three separate functions that go through each word in each dictionary, respectively and sum the number of tokens that appear in that dictionary. For example, for positive words, define a function. That function should create a `for loop` that goes through every word in a list (which will come from the `token` column) and adds 1 to a variable for every word in that list that is in the `pos_words` list above. \n",
    "* (B): Next, use the `.apply()` function to apply these three function to the `tokens` column, thereby creating three new columns, `pos_sentiment`, `neg_sentiment`, and `uncertainty`.\n",
    "* (C): Finally, get a measure of positive, negative, and uncertain sentiment by taking the percentage of the total words spoken in that row that are positive, negative, and uncertain. That is, create three new variables, `pos_percent`, `neg_percent`, and `uncertain_percent`, which divide the counts just created by the total number of tokens. Thus, for example, for a particular row in the DataFrame, `pos_percent` is `pos_sentiment` divided by the number of tokens in `tokens`.\n",
    "* These functions are somewhat computationally intensive, so be patient."
   ]
  },
  {
   "cell_type": "code",
   "execution_count": 22,
   "metadata": {},
   "outputs": [],
   "source": [
    "# Deliverable 11 Response:\n",
    "\n",
    "# A\n",
    "def count_pos(x):\n",
    "    count = 0\n",
    "    for i in x:\n",
    "        if i in pos_words:\n",
    "            count += 1\n",
    "    return count\n",
    "\n",
    "def count_neg(x):\n",
    "    count = 0\n",
    "    for i in x:\n",
    "        if i in neg_words:\n",
    "            count += 1\n",
    "    return count\n",
    "\n",
    "def count_unc(x):\n",
    "    count = 0\n",
    "    for i in x:\n",
    "        if i in uncertain_words:\n",
    "            count += 1\n",
    "    return count"
   ]
  },
  {
   "cell_type": "code",
   "execution_count": 23,
   "metadata": {},
   "outputs": [],
   "source": [
    "# B\n",
    "df2['pos_sentiment'] = df2['tokens'].apply(count_pos)\n",
    "df2['neg_sentiment'] = df2['tokens'].apply(count_neg)\n",
    "df2['uncertainty'] = df2['tokens'].apply(count_unc)"
   ]
  },
  {
   "cell_type": "code",
   "execution_count": 24,
   "metadata": {},
   "outputs": [],
   "source": [
    "# C\n",
    "df2['pos_percent'] = df2['pos_sentiment'] / df2['tokens'].apply(len)\n",
    "df2['neg_percent'] = df2['neg_sentiment'] / df2['tokens'].apply(len)\n",
    "df2['uncertain_percent'] = df2['uncertainty'] / df2['tokens'].apply(len)"
   ]
  },
  {
   "cell_type": "code",
   "execution_count": 25,
   "metadata": {},
   "outputs": [
    {
     "data": {
      "text/html": [
       "<div>\n",
       "<style scoped>\n",
       "    .dataframe tbody tr th:only-of-type {\n",
       "        vertical-align: middle;\n",
       "    }\n",
       "\n",
       "    .dataframe tbody tr th {\n",
       "        vertical-align: top;\n",
       "    }\n",
       "\n",
       "    .dataframe thead th {\n",
       "        text-align: right;\n",
       "    }\n",
       "</style>\n",
       "<table border=\"1\" class=\"dataframe\">\n",
       "  <thead>\n",
       "    <tr style=\"text-align: right;\">\n",
       "      <th></th>\n",
       "      <th>company_name</th>\n",
       "      <th>ticker</th>\n",
       "      <th>date</th>\n",
       "      <th>speaker</th>\n",
       "      <th>text</th>\n",
       "      <th>tokens</th>\n",
       "      <th>frequent</th>\n",
       "      <th>rare</th>\n",
       "      <th>pos_sentiment</th>\n",
       "      <th>neg_sentiment</th>\n",
       "      <th>uncertainty</th>\n",
       "      <th>pos_percent</th>\n",
       "      <th>neg_percent</th>\n",
       "      <th>uncertain_percent</th>\n",
       "    </tr>\n",
       "  </thead>\n",
       "  <tbody>\n",
       "    <tr>\n",
       "      <th>58</th>\n",
       "      <td>Alcoa Corporation</td>\n",
       "      <td>AA</td>\n",
       "      <td>Oct. 17, 2018  9:50 PM</td>\n",
       "      <td>Piyush Sood</td>\n",
       "      <td>with Morgan Stanley. Please go ahead.  Roy and Bill, congratulations on a strong quarter. Good to see a large $200 million buyback plan, what was your thinking about starting with only a buyback and not a mix of a regular say, a 1% small dividend and the remaining through buyback. Just want to understand the thinking behind the decision?</td>\n",
       "      <td>[ahead, bill, congratulation, strong, quarter, good, large, buyback, plan, thinking, starting, buyback, mix, regular, small, dividend, remaining, buyback, understand, thinking, decision]</td>\n",
       "      <td>[decision, congratulation, small, buyback, good, starting, mix, large, strong, quarter, plan, understand, dividend, thinking, ahead]</td>\n",
       "      <td>[]</td>\n",
       "      <td>2</td>\n",
       "      <td>0</td>\n",
       "      <td>0</td>\n",
       "      <td>0.095238</td>\n",
       "      <td>0.000000</td>\n",
       "      <td>0.000000</td>\n",
       "    </tr>\n",
       "    <tr>\n",
       "      <th>59</th>\n",
       "      <td>Alcoa Corporation</td>\n",
       "      <td>AA</td>\n",
       "      <td>Oct. 17, 2018  9:50 PM</td>\n",
       "      <td>Piyush Sood</td>\n",
       "      <td>Roy and Bill, congratulations on a strong quarter. Good to see a large $200 million buyback plan, what was your thinking about starting with only a buyback and not a mix of a regular say, a 1% small dividend and the remaining through buyback. Just want to understand the thinking behind the decision?</td>\n",
       "      <td>[bill, congratulation, strong, quarter, good, large, buyback, plan, thinking, starting, buyback, mix, regular, small, dividend, remaining, buyback, understand, thinking, decision]</td>\n",
       "      <td>[decision, congratulation, small, buyback, good, starting, mix, large, strong, quarter, plan, understand, dividend, thinking]</td>\n",
       "      <td>[]</td>\n",
       "      <td>2</td>\n",
       "      <td>0</td>\n",
       "      <td>0</td>\n",
       "      <td>0.100000</td>\n",
       "      <td>0.000000</td>\n",
       "      <td>0.000000</td>\n",
       "    </tr>\n",
       "    <tr>\n",
       "      <th>60</th>\n",
       "      <td>Alcoa Corporation</td>\n",
       "      <td>AA</td>\n",
       "      <td>Oct. 17, 2018  9:50 PM</td>\n",
       "      <td>Piyush Sood</td>\n",
       "      <td>Fair enough. And one more from me, and I'll get back in the queue. So the U.S. MCA has been signed, and there is a possibility that we could see Section 232 Tariffs in calendar converted into quaters. So if that happens, your import bill will come down, but what do you think that does to U.S. Midwest premiums? Should we expect to floor in the high teens cents per pound at this point assuming that it's more like a duty paid premium at this point?</td>\n",
       "      <td>[fair, back, queue, mca, signed, possibility, section, tariff, calendar, converted, quaters, import, bill, midwest, premium, expect, floor, high, teen, cent, pound, point, assuming, duty, paid, premium, point]</td>\n",
       "      <td>[expect, point, back, tariff, assuming, fair, high]</td>\n",
       "      <td>[cent, midwest, quaters, converted, duty, mca]</td>\n",
       "      <td>0</td>\n",
       "      <td>0</td>\n",
       "      <td>2</td>\n",
       "      <td>0.000000</td>\n",
       "      <td>0.000000</td>\n",
       "      <td>0.074074</td>\n",
       "    </tr>\n",
       "    <tr>\n",
       "      <th>61</th>\n",
       "      <td>Alcoa Corporation</td>\n",
       "      <td>AA</td>\n",
       "      <td>Oct. 17, 2018  9:50 PM</td>\n",
       "      <td>Piyush Sood</td>\n",
       "      <td>And sorry one more question, and this is more to just clarify a comment. Bill, when we were thinking about making a sequential bridge 3Q versus 4Q, should we exclude $60 million price mix benefit in the Alumina segment? And is there any other 3Q bridge item you think it's non-repeatable?</td>\n",
       "      <td>[clarify, bill, thinking, making, sequential, bridge, 3q, versus, 4q, exclude, price, mix, benefit, alumina, segment, 3q, bridge, item, nonrepeatable]</td>\n",
       "      <td>[price, clarify, making, item, 4q, segment, mix, benefit, 3q, thinking, versus]</td>\n",
       "      <td>[nonrepeatable, alumina]</td>\n",
       "      <td>1</td>\n",
       "      <td>2</td>\n",
       "      <td>0</td>\n",
       "      <td>0.052632</td>\n",
       "      <td>0.105263</td>\n",
       "      <td>0.000000</td>\n",
       "    </tr>\n",
       "    <tr>\n",
       "      <th>64</th>\n",
       "      <td>Alcoa Corporation</td>\n",
       "      <td>AA</td>\n",
       "      <td>Oct. 17, 2018  9:50 PM</td>\n",
       "      <td>David Gagliano</td>\n",
       "      <td>with BMO Capital Markets. Please go ahead.  Hi, thanks for taking my questions. I just have a -- I have a two or three, relatively minor questions, but I just wanted to cross a few off of the list in terms of the numbers here. First of all, the $30 million quarter-over-quarter improvement in EBITDA contribution from flat-rolled business versus the second quarter, is that new level of EBITDA contribution for flat-rolled reasonable moving forward?</td>\n",
       "      <td>[capital, market, ahead, taking, question, minor, question, wanted, cross, list, term, number, quarteroverquarter, improvement, ebitda, contribution, flatrolled, business, versus, quarter, level, ebitda, contribution, flatrolled, reasonable, moving, forward]</td>\n",
       "      <td>[market, level, moving, number, taking, term, wanted, capital, question, ahead, contribution, quarter, business, improvement, versus, forward, ebitda]</td>\n",
       "      <td>[flatrolled, minor]</td>\n",
       "      <td>1</td>\n",
       "      <td>0</td>\n",
       "      <td>0</td>\n",
       "      <td>0.037037</td>\n",
       "      <td>0.000000</td>\n",
       "      <td>0.000000</td>\n",
       "    </tr>\n",
       "  </tbody>\n",
       "</table>\n",
       "</div>"
      ],
      "text/plain": [
       "          company_name ticker                    date         speaker  \\\n",
       "58  Alcoa Corporation   AA     Oct. 17, 2018  9:50 PM  Piyush Sood      \n",
       "59  Alcoa Corporation   AA     Oct. 17, 2018  9:50 PM  Piyush Sood      \n",
       "60  Alcoa Corporation   AA     Oct. 17, 2018  9:50 PM  Piyush Sood      \n",
       "61  Alcoa Corporation   AA     Oct. 17, 2018  9:50 PM  Piyush Sood      \n",
       "64  Alcoa Corporation   AA     Oct. 17, 2018  9:50 PM  David Gagliano   \n",
       "\n",
       "                                                                                                                                                                                                                                                                                                                                                                                                                                                                 text  \\\n",
       "58  with Morgan Stanley. Please go ahead.  Roy and Bill, congratulations on a strong quarter. Good to see a large $200 million buyback plan, what was your thinking about starting with only a buyback and not a mix of a regular say, a 1% small dividend and the remaining through buyback. Just want to understand the thinking behind the decision?                                                                                                                 \n",
       "59  Roy and Bill, congratulations on a strong quarter. Good to see a large $200 million buyback plan, what was your thinking about starting with only a buyback and not a mix of a regular say, a 1% small dividend and the remaining through buyback. Just want to understand the thinking behind the decision?                                                                                                                                                        \n",
       "60  Fair enough. And one more from me, and I'll get back in the queue. So the U.S. MCA has been signed, and there is a possibility that we could see Section 232 Tariffs in calendar converted into quaters. So if that happens, your import bill will come down, but what do you think that does to U.S. Midwest premiums? Should we expect to floor in the high teens cents per pound at this point assuming that it's more like a duty paid premium at this point?   \n",
       "61  And sorry one more question, and this is more to just clarify a comment. Bill, when we were thinking about making a sequential bridge 3Q versus 4Q, should we exclude $60 million price mix benefit in the Alumina segment? And is there any other 3Q bridge item you think it's non-repeatable?                                                                                                                                                                    \n",
       "64  with BMO Capital Markets. Please go ahead.  Hi, thanks for taking my questions. I just have a -- I have a two or three, relatively minor questions, but I just wanted to cross a few off of the list in terms of the numbers here. First of all, the $30 million quarter-over-quarter improvement in EBITDA contribution from flat-rolled business versus the second quarter, is that new level of EBITDA contribution for flat-rolled reasonable moving forward?   \n",
       "\n",
       "                                                                                                                                                                                                                                                                tokens  \\\n",
       "58  [ahead, bill, congratulation, strong, quarter, good, large, buyback, plan, thinking, starting, buyback, mix, regular, small, dividend, remaining, buyback, understand, thinking, decision]                                                                           \n",
       "59  [bill, congratulation, strong, quarter, good, large, buyback, plan, thinking, starting, buyback, mix, regular, small, dividend, remaining, buyback, understand, thinking, decision]                                                                                  \n",
       "60  [fair, back, queue, mca, signed, possibility, section, tariff, calendar, converted, quaters, import, bill, midwest, premium, expect, floor, high, teen, cent, pound, point, assuming, duty, paid, premium, point]                                                    \n",
       "61  [clarify, bill, thinking, making, sequential, bridge, 3q, versus, 4q, exclude, price, mix, benefit, alumina, segment, 3q, bridge, item, nonrepeatable]                                                                                                               \n",
       "64  [capital, market, ahead, taking, question, minor, question, wanted, cross, list, term, number, quarteroverquarter, improvement, ebitda, contribution, flatrolled, business, versus, quarter, level, ebitda, contribution, flatrolled, reasonable, moving, forward]   \n",
       "\n",
       "                                                                                                                                                  frequent  \\\n",
       "58  [decision, congratulation, small, buyback, good, starting, mix, large, strong, quarter, plan, understand, dividend, thinking, ahead]                     \n",
       "59  [decision, congratulation, small, buyback, good, starting, mix, large, strong, quarter, plan, understand, dividend, thinking]                            \n",
       "60  [expect, point, back, tariff, assuming, fair, high]                                                                                                      \n",
       "61  [price, clarify, making, item, 4q, segment, mix, benefit, 3q, thinking, versus]                                                                          \n",
       "64  [market, level, moving, number, taking, term, wanted, capital, question, ahead, contribution, quarter, business, improvement, versus, forward, ebitda]   \n",
       "\n",
       "                                              rare  pos_sentiment  \\\n",
       "58  []                                              2               \n",
       "59  []                                              2               \n",
       "60  [cent, midwest, quaters, converted, duty, mca]  0               \n",
       "61  [nonrepeatable, alumina]                        1               \n",
       "64  [flatrolled, minor]                             1               \n",
       "\n",
       "    neg_sentiment  uncertainty  pos_percent  neg_percent  uncertain_percent  \n",
       "58  0              0            0.095238     0.000000     0.000000           \n",
       "59  0              0            0.100000     0.000000     0.000000           \n",
       "60  0              2            0.000000     0.000000     0.074074           \n",
       "61  2              0            0.052632     0.105263     0.000000           \n",
       "64  0              0            0.037037     0.000000     0.000000           "
      ]
     },
     "execution_count": 25,
     "metadata": {},
     "output_type": "execute_result"
    }
   ],
   "source": [
    "df2.head()"
   ]
  },
  {
   "cell_type": "markdown",
   "metadata": {},
   "source": [
    "### 4.2.2 Evaluate Sentiment"
   ]
  },
  {
   "cell_type": "markdown",
   "metadata": {},
   "source": [
    "**Deliverable 12:**\n",
    "Now that you have calculated three measures of sentiment for each row, explore some descriptive statistics for sentiment.\n",
    "* (A) First, calculate the average positive percentage, negative percentage, and uncertainty of each text/row. \n",
    "* (B) Next, look at a particular company, Digital Ally, Inc. (Ticker = DGLY), since they have some interesting things going on in this quarter. Examine how positive, negative and uncertain their analysts were and then visually scan to compare this sentiment to the average levels of sentiment you just calculated.\n",
    "* (C) There is clearly some negative sentiment amongst the analysts of Digital Ally, Inc. Finally, explore this further by focusing on the negative sentiment, since that can sometimes be more useful than positive sentiment. Look at the top seven most negative texts from all analysts (not just from analysts of DGLY). Also, look at only the `speaker`, `text`, `tokens`, and `neg_percent` columns. Do you learn anything interesting here?"
   ]
  },
  {
   "cell_type": "code",
   "execution_count": 26,
   "metadata": {},
   "outputs": [
    {
     "name": "stdout",
     "output_type": "stream",
     "text": [
      "positive:0.03525439654454861\n",
      "negative:0.018199798255680952\n",
      "uncertain:0.009338787939393814\n"
     ]
    }
   ],
   "source": [
    "# Deliverable 12 Response:\n",
    "\n",
    "#A\n",
    "pos_avg = df2['pos_percent'].mean() \n",
    "neg_avg = df2['neg_percent'].mean()\n",
    "unc_avg = df2['uncertain_percent'].mean()\n",
    "print(f'positive:{pos_avg}')\n",
    "print(f'negative:{neg_avg}')\n",
    "print(f'uncertain:{unc_avg}')"
   ]
  },
  {
   "cell_type": "code",
   "execution_count": 27,
   "metadata": {},
   "outputs": [
    {
     "data": {
      "text/html": [
       "<div>\n",
       "<style scoped>\n",
       "    .dataframe tbody tr th:only-of-type {\n",
       "        vertical-align: middle;\n",
       "    }\n",
       "\n",
       "    .dataframe tbody tr th {\n",
       "        vertical-align: top;\n",
       "    }\n",
       "\n",
       "    .dataframe thead th {\n",
       "        text-align: right;\n",
       "    }\n",
       "</style>\n",
       "<table border=\"1\" class=\"dataframe\">\n",
       "  <thead>\n",
       "    <tr style=\"text-align: right;\">\n",
       "      <th></th>\n",
       "      <th>company_name</th>\n",
       "      <th>ticker</th>\n",
       "      <th>date</th>\n",
       "      <th>speaker</th>\n",
       "      <th>text</th>\n",
       "      <th>tokens</th>\n",
       "      <th>frequent</th>\n",
       "      <th>rare</th>\n",
       "      <th>pos_sentiment</th>\n",
       "      <th>neg_sentiment</th>\n",
       "      <th>uncertainty</th>\n",
       "      <th>pos_percent</th>\n",
       "      <th>neg_percent</th>\n",
       "      <th>uncertain_percent</th>\n",
       "    </tr>\n",
       "  </thead>\n",
       "  <tbody>\n",
       "    <tr>\n",
       "      <th>102273</th>\n",
       "      <td>Digital Ally, Inc</td>\n",
       "      <td>DGLY</td>\n",
       "      <td>Aug. 21, 2018  2:03 AM</td>\n",
       "      <td>Ishfaque Faruk</td>\n",
       "      <td>Yes. In your prepared remarks you mentioned a little bit about the VieVu contract termination, is there – what was the promise behind the contract termination since Axon acquired them earlier this year?</td>\n",
       "      <td>[prepared, remark, mentioned, bit, vievu, contract, termination, promise, contract, termination, axon, acquired, earlier, year]</td>\n",
       "      <td>[bit, mentioned, earlier, year, remark, prepared, contract]</td>\n",
       "      <td>[vievu, axon, termination, promise]</td>\n",
       "      <td>0</td>\n",
       "      <td>2</td>\n",
       "      <td>0</td>\n",
       "      <td>0.0</td>\n",
       "      <td>0.142857</td>\n",
       "      <td>0.000000</td>\n",
       "    </tr>\n",
       "    <tr>\n",
       "      <th>102274</th>\n",
       "      <td>Digital Ally, Inc</td>\n",
       "      <td>DGLY</td>\n",
       "      <td>Aug. 21, 2018  2:03 AM</td>\n",
       "      <td>Ishfaque Faruk</td>\n",
       "      <td>Alright. Okay. In terms of the two trials as it looks like the trials are both headed – both the lawsuits are headed for a trial as opposed to one either of the parties settling in advance, so your legal expenses are supposed to move higher in the second half of the year?</td>\n",
       "      <td>[alright, term, trial, trial, headed, lawsuit, headed, trial, opposed, party, settling, advance, legal, expense, supposed, move, higher, half, year]</td>\n",
       "      <td>[move, trial, expense, term, year, higher, half]</td>\n",
       "      <td>[settling, lawsuit, headed]</td>\n",
       "      <td>0</td>\n",
       "      <td>1</td>\n",
       "      <td>0</td>\n",
       "      <td>0.0</td>\n",
       "      <td>0.052632</td>\n",
       "      <td>0.000000</td>\n",
       "    </tr>\n",
       "    <tr>\n",
       "      <th>102275</th>\n",
       "      <td>Digital Ally, Inc</td>\n",
       "      <td>DGLY</td>\n",
       "      <td>Aug. 21, 2018  2:03 AM</td>\n",
       "      <td>Ishfaque Faruk</td>\n",
       "      <td>Okay. And the pre-trial conference date has been set for Jan 2019, when do you reasonably expect this thing to go to trial if it proceeds to the trial?</td>\n",
       "      <td>[pretrial, conference, date, set, jan, expect, thing, trial, proceeds, trial]</td>\n",
       "      <td>[thing, expect, set, trial]</td>\n",
       "      <td>[pretrial, jan]</td>\n",
       "      <td>0</td>\n",
       "      <td>1</td>\n",
       "      <td>0</td>\n",
       "      <td>0.0</td>\n",
       "      <td>0.100000</td>\n",
       "      <td>0.000000</td>\n",
       "    </tr>\n",
       "    <tr>\n",
       "      <th>102276</th>\n",
       "      <td>Digital Ally, Inc</td>\n",
       "      <td>DGLY</td>\n",
       "      <td>Aug. 21, 2018  2:03 AM</td>\n",
       "      <td>Ishfaque Faruk</td>\n",
       "      <td>Okay, okay. Yes and my last question, so the Brickell financing that you did, what was the premise behind that, are you – is it like a investing in the patent or is it to raise additional financing?</td>\n",
       "      <td>[brickell, financing, premise, investing, patent, raise, additional, financing]</td>\n",
       "      <td>[additional]</td>\n",
       "      <td>[brickell, premise]</td>\n",
       "      <td>0</td>\n",
       "      <td>0</td>\n",
       "      <td>0</td>\n",
       "      <td>0.0</td>\n",
       "      <td>0.000000</td>\n",
       "      <td>0.000000</td>\n",
       "    </tr>\n",
       "    <tr>\n",
       "      <th>102282</th>\n",
       "      <td>Digital Ally, Inc</td>\n",
       "      <td>DGLY</td>\n",
       "      <td>Aug. 21, 2018  2:03 AM</td>\n",
       "      <td>Bryan Lubitz</td>\n",
       "      <td>No problem. I want to just piggyback the last point that Ish made in regards to BKI, obviously, they stepped in for $0.5 million on the first tranche and this is second tranche possibly for $9.5 million. I am assuming this will also work with us in regards to any type of legal fees, etcetera moving towards the proceeding of the trial. Is that kind of what that financing was used for?</td>\n",
       "      <td>[problem, piggyback, point, ish, made, bki, stepped, tranche, tranche, possibly, assuming, work, type, legal, fee, etcetera, moving, proceeding, trial, kind, financing]</td>\n",
       "      <td>[kind, work, moving, point, type, trial, fee, made, assuming]</td>\n",
       "      <td>[ish, proceeding, bki, tranche, piggyback]</td>\n",
       "      <td>0</td>\n",
       "      <td>1</td>\n",
       "      <td>2</td>\n",
       "      <td>0.0</td>\n",
       "      <td>0.047619</td>\n",
       "      <td>0.095238</td>\n",
       "    </tr>\n",
       "  </tbody>\n",
       "</table>\n",
       "</div>"
      ],
      "text/plain": [
       "              company_name ticker                    date         speaker  \\\n",
       "102273  Digital Ally, Inc   DGLY   Aug. 21, 2018  2:03 AM  Ishfaque Faruk   \n",
       "102274  Digital Ally, Inc   DGLY   Aug. 21, 2018  2:03 AM  Ishfaque Faruk   \n",
       "102275  Digital Ally, Inc   DGLY   Aug. 21, 2018  2:03 AM  Ishfaque Faruk   \n",
       "102276  Digital Ally, Inc   DGLY   Aug. 21, 2018  2:03 AM  Ishfaque Faruk   \n",
       "102282  Digital Ally, Inc   DGLY   Aug. 21, 2018  2:03 AM  Bryan Lubitz     \n",
       "\n",
       "                                                                                                                                                                                                                                                                                                                                                                                                      text  \\\n",
       "102273  Yes. In your prepared remarks you mentioned a little bit about the VieVu contract termination, is there – what was the promise behind the contract termination since Axon acquired them earlier this year?                                                                                                                                                                                           \n",
       "102274  Alright. Okay. In terms of the two trials as it looks like the trials are both headed – both the lawsuits are headed for a trial as opposed to one either of the parties settling in advance, so your legal expenses are supposed to move higher in the second half of the year?                                                                                                                     \n",
       "102275  Okay. And the pre-trial conference date has been set for Jan 2019, when do you reasonably expect this thing to go to trial if it proceeds to the trial?                                                                                                                                                                                                                                              \n",
       "102276  Okay, okay. Yes and my last question, so the Brickell financing that you did, what was the premise behind that, are you – is it like a investing in the patent or is it to raise additional financing?                                                                                                                                                                                               \n",
       "102282  No problem. I want to just piggyback the last point that Ish made in regards to BKI, obviously, they stepped in for $0.5 million on the first tranche and this is second tranche possibly for $9.5 million. I am assuming this will also work with us in regards to any type of legal fees, etcetera moving towards the proceeding of the trial. Is that kind of what that financing was used for?   \n",
       "\n",
       "                                                                                                                                                                          tokens  \\\n",
       "102273  [prepared, remark, mentioned, bit, vievu, contract, termination, promise, contract, termination, axon, acquired, earlier, year]                                            \n",
       "102274  [alright, term, trial, trial, headed, lawsuit, headed, trial, opposed, party, settling, advance, legal, expense, supposed, move, higher, half, year]                       \n",
       "102275  [pretrial, conference, date, set, jan, expect, thing, trial, proceeds, trial]                                                                                              \n",
       "102276  [brickell, financing, premise, investing, patent, raise, additional, financing]                                                                                            \n",
       "102282  [problem, piggyback, point, ish, made, bki, stepped, tranche, tranche, possibly, assuming, work, type, legal, fee, etcetera, moving, proceeding, trial, kind, financing]   \n",
       "\n",
       "                                                             frequent  \\\n",
       "102273  [bit, mentioned, earlier, year, remark, prepared, contract]     \n",
       "102274  [move, trial, expense, term, year, higher, half]                \n",
       "102275  [thing, expect, set, trial]                                     \n",
       "102276  [additional]                                                    \n",
       "102282  [kind, work, moving, point, type, trial, fee, made, assuming]   \n",
       "\n",
       "                                              rare  pos_sentiment  \\\n",
       "102273  [vievu, axon, termination, promise]         0               \n",
       "102274  [settling, lawsuit, headed]                 0               \n",
       "102275  [pretrial, jan]                             0               \n",
       "102276  [brickell, premise]                         0               \n",
       "102282  [ish, proceeding, bki, tranche, piggyback]  0               \n",
       "\n",
       "        neg_sentiment  uncertainty  pos_percent  neg_percent  \\\n",
       "102273  2              0            0.0          0.142857      \n",
       "102274  1              0            0.0          0.052632      \n",
       "102275  1              0            0.0          0.100000      \n",
       "102276  0              0            0.0          0.000000      \n",
       "102282  1              2            0.0          0.047619      \n",
       "\n",
       "        uncertain_percent  \n",
       "102273  0.000000           \n",
       "102274  0.000000           \n",
       "102275  0.000000           \n",
       "102276  0.000000           \n",
       "102282  0.095238           "
      ]
     },
     "execution_count": 27,
     "metadata": {},
     "output_type": "execute_result"
    }
   ],
   "source": [
    "#B\n",
    "DGLY = df2[df2['ticker']=='DGLY']\n",
    "DGLY.head()"
   ]
  },
  {
   "cell_type": "markdown",
   "metadata": {},
   "source": [
    "The usage of negative sentiment in Digital Ally's conference call is generally higher than average percentage, which may means the company does not have outcomes as good as the average. "
   ]
  },
  {
   "cell_type": "code",
   "execution_count": 28,
   "metadata": {},
   "outputs": [
    {
     "data": {
      "text/html": [
       "<div>\n",
       "<style scoped>\n",
       "    .dataframe tbody tr th:only-of-type {\n",
       "        vertical-align: middle;\n",
       "    }\n",
       "\n",
       "    .dataframe tbody tr th {\n",
       "        vertical-align: top;\n",
       "    }\n",
       "\n",
       "    .dataframe thead th {\n",
       "        text-align: right;\n",
       "    }\n",
       "</style>\n",
       "<table border=\"1\" class=\"dataframe\">\n",
       "  <thead>\n",
       "    <tr style=\"text-align: right;\">\n",
       "      <th></th>\n",
       "      <th>speaker</th>\n",
       "      <th>text</th>\n",
       "      <th>tokens</th>\n",
       "      <th>neg_percent</th>\n",
       "    </tr>\n",
       "  </thead>\n",
       "  <tbody>\n",
       "    <tr>\n",
       "      <th>106193</th>\n",
       "      <td>Michael Jason Rehaut</td>\n",
       "      <td>JPMorgan Securities LLC All right. No, I appreciate that. That was my fault. Sorry for the confusion.</td>\n",
       "      <td>[security, fault, confusion]</td>\n",
       "      <td>0.666667</td>\n",
       "    </tr>\n",
       "    <tr>\n",
       "      <th>297010</th>\n",
       "      <td>Eric Landry</td>\n",
       "      <td>Okay. Because last quarter I know you had -- you had bebe in there, you had a loss from something else is there [that wasn’t disclosed]?</td>\n",
       "      <td>[quarter, bebe, loss, disclosed]</td>\n",
       "      <td>0.500000</td>\n",
       "    </tr>\n",
       "    <tr>\n",
       "      <th>86596</th>\n",
       "      <td>Patrick Kenny</td>\n",
       "      <td>I'm just curious what was the downtime caused by and I couldn't recall if it was planned or unplanned maintenance.</td>\n",
       "      <td>[curious, downtime, caused, recall, planned, unplanned, maintenance]</td>\n",
       "      <td>0.428571</td>\n",
       "    </tr>\n",
       "    <tr>\n",
       "      <th>90957</th>\n",
       "      <td>Joseph Nerges</td>\n",
       "      <td>All right. Just really one more question and that sounds the loss on the discontinued operations was the German, so is we lost $0.11 in Germany for the quarter?</td>\n",
       "      <td>[sound, loss, discontinued, german, lost, germany, quarter]</td>\n",
       "      <td>0.428571</td>\n",
       "    </tr>\n",
       "    <tr>\n",
       "      <th>19996</th>\n",
       "      <td>Mark Hughes</td>\n",
       "      <td>Just out of curiosity. The account that you canceled, was that based on a loss? And when you investigated the loss, the safety issue came to the fore? Or did you figure out before the loss came up?</td>\n",
       "      <td>[curiosity, account, canceled, based, loss, investigated, loss, safety, issue, fore, figure, loss]</td>\n",
       "      <td>0.416667</td>\n",
       "    </tr>\n",
       "    <tr>\n",
       "      <th>363416</th>\n",
       "      <td>Andrew Wolf</td>\n",
       "      <td>I'm asking about the miss, not the contraction. I know the contraction was more from mix, but from what I'm hearing, the miss versus your guidance was more from inbound freight, but maybe I'm missing or maybe I'm wrong...</td>\n",
       "      <td>[miss, contraction, contraction, mix, hearing, miss, versus, guidance, inbound, freight, missing, wrong]</td>\n",
       "      <td>0.416667</td>\n",
       "    </tr>\n",
       "    <tr>\n",
       "      <th>379775</th>\n",
       "      <td>Nancy Bush</td>\n",
       "      <td>Okay. Secondly, John, this is probably a question for you, part of your year-over-year decline and expenses was a fairly large decline in operating losses. I think $700 million and something. Now, if my memory serves me right, most of operating losses are fraud losses. Is that still the case? And what’s going on in that decline?</td>\n",
       "      <td>[part, yearoveryear, decline, expense, fairly, large, decline, operating, loss, memory, serf, operating, loss, fraud, loss, case, decline]</td>\n",
       "      <td>0.411765</td>\n",
       "    </tr>\n",
       "  </tbody>\n",
       "</table>\n",
       "</div>"
      ],
      "text/plain": [
       "                     speaker  \\\n",
       "106193  Michael Jason Rehaut   \n",
       "297010  Eric Landry            \n",
       "86596   Patrick Kenny          \n",
       "90957   Joseph Nerges          \n",
       "19996   Mark Hughes            \n",
       "363416  Andrew Wolf            \n",
       "379775  Nancy Bush             \n",
       "\n",
       "                                                                                                                                                                                                                                                                                                                                              text  \\\n",
       "106193  JPMorgan Securities LLC All right. No, I appreciate that. That was my fault. Sorry for the confusion.                                                                                                                                                                                                                                        \n",
       "297010  Okay. Because last quarter I know you had -- you had bebe in there, you had a loss from something else is there [that wasn’t disclosed]?                                                                                                                                                                                                     \n",
       "86596   I'm just curious what was the downtime caused by and I couldn't recall if it was planned or unplanned maintenance.                                                                                                                                                                                                                           \n",
       "90957   All right. Just really one more question and that sounds the loss on the discontinued operations was the German, so is we lost $0.11 in Germany for the quarter?                                                                                                                                                                             \n",
       "19996   Just out of curiosity. The account that you canceled, was that based on a loss? And when you investigated the loss, the safety issue came to the fore? Or did you figure out before the loss came up?                                                                                                                                        \n",
       "363416  I'm asking about the miss, not the contraction. I know the contraction was more from mix, but from what I'm hearing, the miss versus your guidance was more from inbound freight, but maybe I'm missing or maybe I'm wrong...                                                                                                                \n",
       "379775  Okay. Secondly, John, this is probably a question for you, part of your year-over-year decline and expenses was a fairly large decline in operating losses. I think $700 million and something. Now, if my memory serves me right, most of operating losses are fraud losses. Is that still the case? And what’s going on in that decline?   \n",
       "\n",
       "                                                                                                                                            tokens  \\\n",
       "106193  [security, fault, confusion]                                                                                                                 \n",
       "297010  [quarter, bebe, loss, disclosed]                                                                                                             \n",
       "86596   [curious, downtime, caused, recall, planned, unplanned, maintenance]                                                                         \n",
       "90957   [sound, loss, discontinued, german, lost, germany, quarter]                                                                                  \n",
       "19996   [curiosity, account, canceled, based, loss, investigated, loss, safety, issue, fore, figure, loss]                                           \n",
       "363416  [miss, contraction, contraction, mix, hearing, miss, versus, guidance, inbound, freight, missing, wrong]                                     \n",
       "379775  [part, yearoveryear, decline, expense, fairly, large, decline, operating, loss, memory, serf, operating, loss, fraud, loss, case, decline]   \n",
       "\n",
       "        neg_percent  \n",
       "106193  0.666667     \n",
       "297010  0.500000     \n",
       "86596   0.428571     \n",
       "90957   0.428571     \n",
       "19996   0.416667     \n",
       "363416  0.416667     \n",
       "379775  0.411765     "
      ]
     },
     "execution_count": 28,
     "metadata": {},
     "output_type": "execute_result"
    }
   ],
   "source": [
    "#C\n",
    "df_c = df2.sort_values('neg_percent',ascending=False)\n",
    "df_c = df_c[['speaker','text','tokens','neg_percent']]\n",
    "df_c.head(7)"
   ]
  },
  {
   "cell_type": "markdown",
   "metadata": {},
   "source": [
    "By looking at the top 7 negative sentiment analysis scores, general negatively sound tokens, like \"fault\", \"confusion\", \"loss\", \"discountinued\", \"lost\", and \"missing\", increases the negative scores. And if there are more negative tokens than positive tokens, negative percents then increase. "
   ]
  },
  {
   "cell_type": "markdown",
   "metadata": {},
   "source": [
    "# 5.0 Putting Key Words and Sentiment Together"
   ]
  },
  {
   "cell_type": "markdown",
   "metadata": {},
   "source": [
    "Sentiment is interesting on its own, but does it help you gain any insight into what analysts are saying? Do you learn more when you use both the keywords from above and the sentiment measures? "
   ]
  },
  {
   "cell_type": "markdown",
   "metadata": {},
   "source": [
    "**Deliverable 13:** Examine a subset of the data and use a sentence or two to describe what you learn from reading the keywords along with the sentiment measures you just created. Specifically, look at Illinois Fortune 500 companies Abbott Labs, Archer Daniels Midland, McDonald's, and Allstate. How does examining the keywords along with the sentiment analysis improve your ability to understand what analysts are asking about?"
   ]
  },
  {
   "cell_type": "code",
   "execution_count": 29,
   "metadata": {},
   "outputs": [
    {
     "data": {
      "text/html": [
       "<div>\n",
       "<style scoped>\n",
       "    .dataframe tbody tr th:only-of-type {\n",
       "        vertical-align: middle;\n",
       "    }\n",
       "\n",
       "    .dataframe tbody tr th {\n",
       "        vertical-align: top;\n",
       "    }\n",
       "\n",
       "    .dataframe thead th {\n",
       "        text-align: right;\n",
       "    }\n",
       "</style>\n",
       "<table border=\"1\" class=\"dataframe\">\n",
       "  <thead>\n",
       "    <tr style=\"text-align: right;\">\n",
       "      <th></th>\n",
       "      <th>company_name</th>\n",
       "      <th>ticker</th>\n",
       "      <th>date</th>\n",
       "      <th>speaker</th>\n",
       "      <th>text</th>\n",
       "      <th>tokens</th>\n",
       "      <th>frequent</th>\n",
       "      <th>rare</th>\n",
       "      <th>pos_sentiment</th>\n",
       "      <th>neg_sentiment</th>\n",
       "      <th>uncertainty</th>\n",
       "      <th>pos_percent</th>\n",
       "      <th>neg_percent</th>\n",
       "      <th>uncertain_percent</th>\n",
       "    </tr>\n",
       "  </thead>\n",
       "  <tbody>\n",
       "    <tr>\n",
       "      <th>3134</th>\n",
       "      <td>Abbott Laboratories</td>\n",
       "      <td>ABT</td>\n",
       "      <td>Oct. 17, 2018  2:20 PM</td>\n",
       "      <td>David Lewis</td>\n",
       "      <td>Okay. Thank you. So Miles, two questions for you. Obviously a lot of business momentum here in 2018 and meaningful drivers ahead like Libre 2 and MitraClip. So as you think about sort of sustainability, is sort of 6% to 7% range is sustainable over the intermediate term and how you think about Abbott’s ability to deliver double-digits or low-teen earnings given the currency environment and all these various opportunities to grow?</td>\n",
       "      <td>[mile, question, lot, business, momentum, meaningful, driver, ahead, libre, mitraclip, sort, sustainability, sort, range, sustainable, intermediate, term, abbotts, ability, deliver, doubledigits, lowteen, earnings, currency, environment, opportunity, grow]</td>\n",
       "      <td>[environment, term, question, range, lot, opportunity, ability, grow, business, sustainable, sort, driver, earnings, ahead]</td>\n",
       "      <td>[doubledigits, lowteen, abbotts, mitraclip, libre]</td>\n",
       "      <td>1</td>\n",
       "      <td>0</td>\n",
       "      <td>0</td>\n",
       "      <td>0.037037</td>\n",
       "      <td>0.000000</td>\n",
       "      <td>0.000000</td>\n",
       "    </tr>\n",
       "    <tr>\n",
       "      <th>3135</th>\n",
       "      <td>Abbott Laboratories</td>\n",
       "      <td>ABT</td>\n",
       "      <td>Oct. 17, 2018  2:20 PM</td>\n",
       "      <td>David Lewis</td>\n",
       "      <td>Okay, Miles, very clear. And second just follow-up through for you is just, can you help us put the Robert Ford announcement and the perspective and sort of share your thoughts on what it means for you over the intermediate term?</td>\n",
       "      <td>[mile, clear, put, ford, announcement, perspective, sort, share, thought, mean, intermediate, term]</td>\n",
       "      <td>[put, term, thought, share, sort, perspective, clear]</td>\n",
       "      <td>[]</td>\n",
       "      <td>0</td>\n",
       "      <td>0</td>\n",
       "      <td>0</td>\n",
       "      <td>0.000000</td>\n",
       "      <td>0.000000</td>\n",
       "      <td>0.000000</td>\n",
       "    </tr>\n",
       "    <tr>\n",
       "      <th>3138</th>\n",
       "      <td>Abbott Laboratories</td>\n",
       "      <td>ABT</td>\n",
       "      <td>Oct. 17, 2018  2:20 PM</td>\n",
       "      <td>Robbie Marcus</td>\n",
       "      <td>from JPMorgan. Your line is open.  Oh! Great, thanks for taking the question and congratulations on a great quarter. Miles, I wanted to ask you about COAPT. A lot of us were at the TCT conference in San Diego last month and saw the great data there, too a room of standing ovations which we don't see in medical devices that often. So us on the street we can think about big numbers with such a large patient opportunity. Maybe tell us how you're thinking about MitraClip over next years and how you think the street should be thinking about it?</td>\n",
       "      <td>[open, great, taking, congratulation, great, quarter, mile, wanted, coapt, lot, tct, conference, san, diego, month, great, data, room, standing, ovation, medical, device, street, big, number, large, patient, opportunity, thinking, mitraclip, year, street, thinking]</td>\n",
       "      <td>[congratulation, patient, number, data, taking, great, large, wanted, open, thinking, quarter, year, opportunity, lot, big, month]</td>\n",
       "      <td>[diego, mitraclip, coapt, standing, ovation, tct]</td>\n",
       "      <td>4</td>\n",
       "      <td>0</td>\n",
       "      <td>0</td>\n",
       "      <td>0.121212</td>\n",
       "      <td>0.000000</td>\n",
       "      <td>0.000000</td>\n",
       "    </tr>\n",
       "    <tr>\n",
       "      <th>3139</th>\n",
       "      <td>Abbott Laboratories</td>\n",
       "      <td>ABT</td>\n",
       "      <td>Oct. 17, 2018  2:20 PM</td>\n",
       "      <td>Robbie Marcus</td>\n",
       "      <td>Oh! Great, thanks for taking the question and congratulations on a great quarter. Miles, I wanted to ask you about COAPT. A lot of us were at the TCT conference in San Diego last month and saw the great data there, too a room of standing ovations which we don't see in medical devices that often. So us on the street we can think about big numbers with such a large patient opportunity. Maybe tell us how you're thinking about MitraClip over next years and how you think the street should be thinking about it?</td>\n",
       "      <td>[great, taking, congratulation, great, quarter, mile, wanted, coapt, lot, tct, conference, san, diego, month, great, data, room, standing, ovation, medical, device, street, big, number, large, patient, opportunity, thinking, mitraclip, year, street, thinking]</td>\n",
       "      <td>[congratulation, patient, number, data, taking, great, large, wanted, thinking, quarter, year, opportunity, lot, big, month]</td>\n",
       "      <td>[diego, mitraclip, coapt, standing, ovation, tct]</td>\n",
       "      <td>4</td>\n",
       "      <td>0</td>\n",
       "      <td>0</td>\n",
       "      <td>0.125000</td>\n",
       "      <td>0.000000</td>\n",
       "      <td>0.000000</td>\n",
       "    </tr>\n",
       "    <tr>\n",
       "      <th>3140</th>\n",
       "      <td>Abbott Laboratories</td>\n",
       "      <td>ABT</td>\n",
       "      <td>Oct. 17, 2018  2:20 PM</td>\n",
       "      <td>Robbie Marcus</td>\n",
       "      <td>Okay, great. And maybe a follow-up on Libre. This is a product that's been widely successful, over 100 million run rate in the US, over 1 billion globally. And you really have one major competitor here that's -- let's call it at the upper end of the technology scale. And Abbott in our view is the low cost, easy to access, very easy to use product in continuous glucose monitoring. So, as we think about the evolution of Libre over the next few years, how do you think about Libre staying at the lower end of the cost and ease of use curve versus moving up and trying to compete with your main competitor there? Thanks.</td>\n",
       "      <td>[great, libre, product, widely, successful, run, rate, globally, major, competitor, call, upper, end, technology, scale, abbott, view, low, cost, easy, access, easy, product, continuous, glucose, monitoring, evolution, libre, year, libre, staying, lower, end, cost, ease, curve, versus, moving, compete, main, competitor]</td>\n",
       "      <td>[call, view, moving, technology, lower, product, great, end, cost, low, year, run, competitor, rate, versus]</td>\n",
       "      <td>[glucose, libre, continuous, abbott, widely, ease]</td>\n",
       "      <td>4</td>\n",
       "      <td>0</td>\n",
       "      <td>0</td>\n",
       "      <td>0.097561</td>\n",
       "      <td>0.000000</td>\n",
       "      <td>0.000000</td>\n",
       "    </tr>\n",
       "    <tr>\n",
       "      <th>3142</th>\n",
       "      <td>Abbott Laboratories</td>\n",
       "      <td>ABT</td>\n",
       "      <td>Oct. 17, 2018  2:20 PM</td>\n",
       "      <td>Bob Hopkins</td>\n",
       "      <td>from Bank of America. Your line is open.  So two quick questions. First a product question and then an earnings growth question. On the product side, obviously, the context here is that Abbott is a company delivering absolutely top of class revenue growth. But one thing in the quarter that I want to ask about was, neuromodulation that was a little slower like the last quarter. I am just curious, has your outlook for that business changed at all, or is this just still temporary hiring issues and when do you think you can return to more like double-digit growth in that division?</td>\n",
       "      <td>[open, quick, question, product, earnings, growth, product, side, context, abbott, company, delivering, absolutely, top, class, revenue, growth, thing, quarter, neuromodulation, slower, quarter, curious, outlook, business, changed, temporary, hiring, issue, return, doubledigit, growth, division]</td>\n",
       "      <td>[issue, company, context, product, curious, return, revenue, question, open, thing, growth, quarter, quick, side, business, changed, earnings, top, outlook]</td>\n",
       "      <td>[abbott, neuromodulation]</td>\n",
       "      <td>0</td>\n",
       "      <td>1</td>\n",
       "      <td>0</td>\n",
       "      <td>0.000000</td>\n",
       "      <td>0.030303</td>\n",
       "      <td>0.000000</td>\n",
       "    </tr>\n",
       "    <tr>\n",
       "      <th>3143</th>\n",
       "      <td>Abbott Laboratories</td>\n",
       "      <td>ABT</td>\n",
       "      <td>Oct. 17, 2018  2:20 PM</td>\n",
       "      <td>Bob Hopkins</td>\n",
       "      <td>So two quick questions. First a product question and then an earnings growth question. On the product side, obviously, the context here is that Abbott is a company delivering absolutely top of class revenue growth. But one thing in the quarter that I want to ask about was, neuromodulation that was a little slower like the last quarter. I am just curious, has your outlook for that business changed at all, or is this just still temporary hiring issues and when do you think you can return to more like double-digit growth in that division?</td>\n",
       "      <td>[quick, question, product, earnings, growth, product, side, context, abbott, company, delivering, absolutely, top, class, revenue, growth, thing, quarter, neuromodulation, slower, quarter, curious, outlook, business, changed, temporary, hiring, issue, return, doubledigit, growth, division]</td>\n",
       "      <td>[issue, company, context, product, curious, return, revenue, question, thing, growth, quarter, quick, side, business, changed, earnings, top, outlook]</td>\n",
       "      <td>[abbott, neuromodulation]</td>\n",
       "      <td>0</td>\n",
       "      <td>1</td>\n",
       "      <td>0</td>\n",
       "      <td>0.000000</td>\n",
       "      <td>0.031250</td>\n",
       "      <td>0.000000</td>\n",
       "    </tr>\n",
       "    <tr>\n",
       "      <th>3144</th>\n",
       "      <td>Abbott Laboratories</td>\n",
       "      <td>ABT</td>\n",
       "      <td>Oct. 17, 2018  2:20 PM</td>\n",
       "      <td>Bob Hopkins</td>\n",
       "      <td>Okay. Two other quick little things. What was the US -- imminent US product approval you guys were highlighting in your prepared remarks? And then I also want to just follow up really quickly on David's question on earnings growth. And I realize you start every year at 10%. The street is modeling roughly 12% earnings growth for really the next couple of years. Given all the puts and takes, is that a reasonable place to start or could currency make that a little challenging? Thank you.</td>\n",
       "      <td>[quick, thing, imminent, product, approval, highlighting, prepared, remark, follow, quickly, david, earnings, growth, realize, start, year, street, modeling, roughly, earnings, growth, couple, year, put, take, reasonable, place, start, currency, make, challenging]</td>\n",
       "      <td>[put, follow, product, start, place, make, thing, growth, quickly, quick, year, remark, earnings, couple, prepared, roughly]</td>\n",
       "      <td>[david, highlighting, imminent]</td>\n",
       "      <td>0</td>\n",
       "      <td>1</td>\n",
       "      <td>1</td>\n",
       "      <td>0.000000</td>\n",
       "      <td>0.032258</td>\n",
       "      <td>0.032258</td>\n",
       "    </tr>\n",
       "    <tr>\n",
       "      <th>3147</th>\n",
       "      <td>Abbott Laboratories</td>\n",
       "      <td>ABT</td>\n",
       "      <td>Oct. 17, 2018  2:20 PM</td>\n",
       "      <td>Vijay Kumar</td>\n",
       "      <td>from Evercore. Your line is open.   Hey, guys. Thanks for taking my question. Congrats on the nice quarter here. So, Miles, maybe the first one on the sustainability question. If I'm looking at '19, you have MitraClip FMR indication, which is incremental. Libre continues its trends. You have HeartMate 3, which is incremental. Portico US launch, which is incremental, a stable CRM outlook. In neuromod, your comps get easy. Alinity, it should be ramping in the US. It really feels like all the strength we've seen in '18, this should continue into '19. So, maybe can you just talk about some drivers for how we should be thinking about the pluses and the minuses?</td>\n",
       "      <td>[open, hey, taking, congrats, nice, quarter, mile, sustainability, mitraclip, fmr, indication, incremental, libre, continues, trend, heartmate, incremental, portico, launch, incremental, stable, crm, outlook, neuromod, comp, easy, alinity, ramping, feel, strength, continue, talk, driver, thinking, plus, minus]</td>\n",
       "      <td>[strength, taking, driver, feel, trend, incremental, launch, open, comp, quarter, continue, hey, outlook, talk, indication, thinking, congrats, nice]</td>\n",
       "      <td>[crm, heartmate, plus, alinity, libre, mitraclip, portico, neuromod, fmr]</td>\n",
       "      <td>3</td>\n",
       "      <td>0</td>\n",
       "      <td>0</td>\n",
       "      <td>0.083333</td>\n",
       "      <td>0.000000</td>\n",
       "      <td>0.000000</td>\n",
       "    </tr>\n",
       "    <tr>\n",
       "      <th>3148</th>\n",
       "      <td>Abbott Laboratories</td>\n",
       "      <td>ABT</td>\n",
       "      <td>Oct. 17, 2018  2:20 PM</td>\n",
       "      <td>Vijay Kumar</td>\n",
       "      <td>Hey, guys. Thanks for taking my question. Congrats on the nice quarter here. So, Miles, maybe the first one on the sustainability question. If I'm looking at '19, you have MitraClip FMR indication, which is incremental. Libre continues its trends. You have HeartMate 3, which is incremental. Portico US launch, which is incremental, a stable CRM outlook. In neuromod, your comps get easy. Alinity, it should be ramping in the US. It really feels like all the strength we've seen in '18, this should continue into '19. So, maybe can you just talk about some drivers for how we should be thinking about the pluses and the minuses?</td>\n",
       "      <td>[hey, taking, congrats, nice, quarter, mile, sustainability, mitraclip, fmr, indication, incremental, libre, continues, trend, heartmate, incremental, portico, launch, incremental, stable, crm, outlook, neuromod, comp, easy, alinity, ramping, feel, strength, continue, talk, driver, thinking, plus, minus]</td>\n",
       "      <td>[strength, taking, driver, feel, trend, incremental, launch, comp, quarter, continue, hey, outlook, talk, indication, thinking, congrats, nice]</td>\n",
       "      <td>[crm, heartmate, plus, alinity, libre, mitraclip, portico, neuromod, fmr]</td>\n",
       "      <td>3</td>\n",
       "      <td>0</td>\n",
       "      <td>0</td>\n",
       "      <td>0.085714</td>\n",
       "      <td>0.000000</td>\n",
       "      <td>0.000000</td>\n",
       "    </tr>\n",
       "  </tbody>\n",
       "</table>\n",
       "</div>"
      ],
      "text/plain": [
       "              company_name ticker                    date        speaker  \\\n",
       "3134  Abbott Laboratories   ABT    Oct. 17, 2018  2:20 PM  David Lewis     \n",
       "3135  Abbott Laboratories   ABT    Oct. 17, 2018  2:20 PM  David Lewis     \n",
       "3138  Abbott Laboratories   ABT    Oct. 17, 2018  2:20 PM  Robbie Marcus   \n",
       "3139  Abbott Laboratories   ABT    Oct. 17, 2018  2:20 PM  Robbie Marcus   \n",
       "3140  Abbott Laboratories   ABT    Oct. 17, 2018  2:20 PM  Robbie Marcus   \n",
       "3142  Abbott Laboratories   ABT    Oct. 17, 2018  2:20 PM  Bob Hopkins     \n",
       "3143  Abbott Laboratories   ABT    Oct. 17, 2018  2:20 PM  Bob Hopkins     \n",
       "3144  Abbott Laboratories   ABT    Oct. 17, 2018  2:20 PM  Bob Hopkins     \n",
       "3147  Abbott Laboratories   ABT    Oct. 17, 2018  2:20 PM  Vijay Kumar     \n",
       "3148  Abbott Laboratories   ABT    Oct. 17, 2018  2:20 PM  Vijay Kumar     \n",
       "\n",
       "                                                                                                                                                                                                                                                                                                                                                                                                                                                                                                                                                                                                                                                                                          text  \\\n",
       "3134  Okay. Thank you. So Miles, two questions for you. Obviously a lot of business momentum here in 2018 and meaningful drivers ahead like Libre 2 and MitraClip. So as you think about sort of sustainability, is sort of 6% to 7% range is sustainable over the intermediate term and how you think about Abbott’s ability to deliver double-digits or low-teen earnings given the currency environment and all these various opportunities to grow?                                                                                                                                                                                                                                          \n",
       "3135  Okay, Miles, very clear. And second just follow-up through for you is just, can you help us put the Robert Ford announcement and the perspective and sort of share your thoughts on what it means for you over the intermediate term?                                                                                                                                                                                                                                                                                                                                                                                                                                                      \n",
       "3138  from JPMorgan. Your line is open.  Oh! Great, thanks for taking the question and congratulations on a great quarter. Miles, I wanted to ask you about COAPT. A lot of us were at the TCT conference in San Diego last month and saw the great data there, too a room of standing ovations which we don't see in medical devices that often. So us on the street we can think about big numbers with such a large patient opportunity. Maybe tell us how you're thinking about MitraClip over next years and how you think the street should be thinking about it?                                                                                                                          \n",
       "3139  Oh! Great, thanks for taking the question and congratulations on a great quarter. Miles, I wanted to ask you about COAPT. A lot of us were at the TCT conference in San Diego last month and saw the great data there, too a room of standing ovations which we don't see in medical devices that often. So us on the street we can think about big numbers with such a large patient opportunity. Maybe tell us how you're thinking about MitraClip over next years and how you think the street should be thinking about it?                                                                                                                                                             \n",
       "3140  Okay, great. And maybe a follow-up on Libre. This is a product that's been widely successful, over 100 million run rate in the US, over 1 billion globally. And you really have one major competitor here that's -- let's call it at the upper end of the technology scale. And Abbott in our view is the low cost, easy to access, very easy to use product in continuous glucose monitoring. So, as we think about the evolution of Libre over the next few years, how do you think about Libre staying at the lower end of the cost and ease of use curve versus moving up and trying to compete with your main competitor there? Thanks.                                               \n",
       "3142  from Bank of America. Your line is open.  So two quick questions. First a product question and then an earnings growth question. On the product side, obviously, the context here is that Abbott is a company delivering absolutely top of class revenue growth. But one thing in the quarter that I want to ask about was, neuromodulation that was a little slower like the last quarter. I am just curious, has your outlook for that business changed at all, or is this just still temporary hiring issues and when do you think you can return to more like double-digit growth in that division?                                                                                    \n",
       "3143  So two quick questions. First a product question and then an earnings growth question. On the product side, obviously, the context here is that Abbott is a company delivering absolutely top of class revenue growth. But one thing in the quarter that I want to ask about was, neuromodulation that was a little slower like the last quarter. I am just curious, has your outlook for that business changed at all, or is this just still temporary hiring issues and when do you think you can return to more like double-digit growth in that division?                                                                                                                              \n",
       "3144  Okay. Two other quick little things. What was the US -- imminent US product approval you guys were highlighting in your prepared remarks? And then I also want to just follow up really quickly on David's question on earnings growth. And I realize you start every year at 10%. The street is modeling roughly 12% earnings growth for really the next couple of years. Given all the puts and takes, is that a reasonable place to start or could currency make that a little challenging? Thank you.                                                                                                                                                                                  \n",
       "3147  from Evercore. Your line is open.   Hey, guys. Thanks for taking my question. Congrats on the nice quarter here. So, Miles, maybe the first one on the sustainability question. If I'm looking at '19, you have MitraClip FMR indication, which is incremental. Libre continues its trends. You have HeartMate 3, which is incremental. Portico US launch, which is incremental, a stable CRM outlook. In neuromod, your comps get easy. Alinity, it should be ramping in the US. It really feels like all the strength we've seen in '18, this should continue into '19. So, maybe can you just talk about some drivers for how we should be thinking about the pluses and the minuses?   \n",
       "3148  Hey, guys. Thanks for taking my question. Congrats on the nice quarter here. So, Miles, maybe the first one on the sustainability question. If I'm looking at '19, you have MitraClip FMR indication, which is incremental. Libre continues its trends. You have HeartMate 3, which is incremental. Portico US launch, which is incremental, a stable CRM outlook. In neuromod, your comps get easy. Alinity, it should be ramping in the US. It really feels like all the strength we've seen in '18, this should continue into '19. So, maybe can you just talk about some drivers for how we should be thinking about the pluses and the minuses?                                       \n",
       "\n",
       "                                                                                                                                                                                                                                                                                                                                 tokens  \\\n",
       "3134  [mile, question, lot, business, momentum, meaningful, driver, ahead, libre, mitraclip, sort, sustainability, sort, range, sustainable, intermediate, term, abbotts, ability, deliver, doubledigits, lowteen, earnings, currency, environment, opportunity, grow]                                                                    \n",
       "3135  [mile, clear, put, ford, announcement, perspective, sort, share, thought, mean, intermediate, term]                                                                                                                                                                                                                                 \n",
       "3138  [open, great, taking, congratulation, great, quarter, mile, wanted, coapt, lot, tct, conference, san, diego, month, great, data, room, standing, ovation, medical, device, street, big, number, large, patient, opportunity, thinking, mitraclip, year, street, thinking]                                                           \n",
       "3139  [great, taking, congratulation, great, quarter, mile, wanted, coapt, lot, tct, conference, san, diego, month, great, data, room, standing, ovation, medical, device, street, big, number, large, patient, opportunity, thinking, mitraclip, year, street, thinking]                                                                 \n",
       "3140  [great, libre, product, widely, successful, run, rate, globally, major, competitor, call, upper, end, technology, scale, abbott, view, low, cost, easy, access, easy, product, continuous, glucose, monitoring, evolution, libre, year, libre, staying, lower, end, cost, ease, curve, versus, moving, compete, main, competitor]   \n",
       "3142  [open, quick, question, product, earnings, growth, product, side, context, abbott, company, delivering, absolutely, top, class, revenue, growth, thing, quarter, neuromodulation, slower, quarter, curious, outlook, business, changed, temporary, hiring, issue, return, doubledigit, growth, division]                            \n",
       "3143  [quick, question, product, earnings, growth, product, side, context, abbott, company, delivering, absolutely, top, class, revenue, growth, thing, quarter, neuromodulation, slower, quarter, curious, outlook, business, changed, temporary, hiring, issue, return, doubledigit, growth, division]                                  \n",
       "3144  [quick, thing, imminent, product, approval, highlighting, prepared, remark, follow, quickly, david, earnings, growth, realize, start, year, street, modeling, roughly, earnings, growth, couple, year, put, take, reasonable, place, start, currency, make, challenging]                                                            \n",
       "3147  [open, hey, taking, congrats, nice, quarter, mile, sustainability, mitraclip, fmr, indication, incremental, libre, continues, trend, heartmate, incremental, portico, launch, incremental, stable, crm, outlook, neuromod, comp, easy, alinity, ramping, feel, strength, continue, talk, driver, thinking, plus, minus]             \n",
       "3148  [hey, taking, congrats, nice, quarter, mile, sustainability, mitraclip, fmr, indication, incremental, libre, continues, trend, heartmate, incremental, portico, launch, incremental, stable, crm, outlook, neuromod, comp, easy, alinity, ramping, feel, strength, continue, talk, driver, thinking, plus, minus]                   \n",
       "\n",
       "                                                                                                                                                          frequent  \\\n",
       "3134  [environment, term, question, range, lot, opportunity, ability, grow, business, sustainable, sort, driver, earnings, ahead]                                    \n",
       "3135  [put, term, thought, share, sort, perspective, clear]                                                                                                          \n",
       "3138  [congratulation, patient, number, data, taking, great, large, wanted, open, thinking, quarter, year, opportunity, lot, big, month]                             \n",
       "3139  [congratulation, patient, number, data, taking, great, large, wanted, thinking, quarter, year, opportunity, lot, big, month]                                   \n",
       "3140  [call, view, moving, technology, lower, product, great, end, cost, low, year, run, competitor, rate, versus]                                                   \n",
       "3142  [issue, company, context, product, curious, return, revenue, question, open, thing, growth, quarter, quick, side, business, changed, earnings, top, outlook]   \n",
       "3143  [issue, company, context, product, curious, return, revenue, question, thing, growth, quarter, quick, side, business, changed, earnings, top, outlook]         \n",
       "3144  [put, follow, product, start, place, make, thing, growth, quickly, quick, year, remark, earnings, couple, prepared, roughly]                                   \n",
       "3147  [strength, taking, driver, feel, trend, incremental, launch, open, comp, quarter, continue, hey, outlook, talk, indication, thinking, congrats, nice]          \n",
       "3148  [strength, taking, driver, feel, trend, incremental, launch, comp, quarter, continue, hey, outlook, talk, indication, thinking, congrats, nice]                \n",
       "\n",
       "                                                                           rare  \\\n",
       "3134  [doubledigits, lowteen, abbotts, mitraclip, libre]                          \n",
       "3135  []                                                                          \n",
       "3138  [diego, mitraclip, coapt, standing, ovation, tct]                           \n",
       "3139  [diego, mitraclip, coapt, standing, ovation, tct]                           \n",
       "3140  [glucose, libre, continuous, abbott, widely, ease]                          \n",
       "3142  [abbott, neuromodulation]                                                   \n",
       "3143  [abbott, neuromodulation]                                                   \n",
       "3144  [david, highlighting, imminent]                                             \n",
       "3147  [crm, heartmate, plus, alinity, libre, mitraclip, portico, neuromod, fmr]   \n",
       "3148  [crm, heartmate, plus, alinity, libre, mitraclip, portico, neuromod, fmr]   \n",
       "\n",
       "      pos_sentiment  neg_sentiment  uncertainty  pos_percent  neg_percent  \\\n",
       "3134  1              0              0            0.037037     0.000000      \n",
       "3135  0              0              0            0.000000     0.000000      \n",
       "3138  4              0              0            0.121212     0.000000      \n",
       "3139  4              0              0            0.125000     0.000000      \n",
       "3140  4              0              0            0.097561     0.000000      \n",
       "3142  0              1              0            0.000000     0.030303      \n",
       "3143  0              1              0            0.000000     0.031250      \n",
       "3144  0              1              1            0.000000     0.032258      \n",
       "3147  3              0              0            0.083333     0.000000      \n",
       "3148  3              0              0            0.085714     0.000000      \n",
       "\n",
       "      uncertain_percent  \n",
       "3134  0.000000           \n",
       "3135  0.000000           \n",
       "3138  0.000000           \n",
       "3139  0.000000           \n",
       "3140  0.000000           \n",
       "3142  0.000000           \n",
       "3143  0.000000           \n",
       "3144  0.032258           \n",
       "3147  0.000000           \n",
       "3148  0.000000           "
      ]
     },
     "execution_count": 29,
     "metadata": {},
     "output_type": "execute_result"
    }
   ],
   "source": [
    "df_13 = df2[df2['ticker'].isin(['ABT','ADM','MCD','ALL'])]\n",
    "df_13.head(10)\n",
    "#df_13.to_csv('/Users/King Andy/Desktop/2020 Spring/accy 575 da app/conference call case/\\df_13.csv')"
   ]
  },
  {
   "cell_type": "markdown",
   "metadata": {},
   "source": [
    "The frequent and rare words can be used to emphazise key words that the reader should pay attention to throughout the conference call. From the above subset of the data, we can see that positive sentiment increases as the number of positive words in the sentence increases. When there are frequent tokens, like \"great\", \"good\", and \"congratulation\", in the sentence, the sentiment score increases. By looking at the sentiment scores, we can quickly form a basic understanding of the sentiment and the impression or tone the speaker is trying to communicate."
   ]
  },
  {
   "cell_type": "markdown",
   "metadata": {},
   "source": [
    "# 6.0 Automated Topic Modeling Demonstration"
   ]
  },
  {
   "cell_type": "markdown",
   "metadata": {},
   "source": [
    "While our keyword analysis was helpful, it would be nice to have an automated way to look at what topics each analyst is discussing instead of the manual process you used above with the frequent and rare words. Luckily, you can use machine learning to examine the words used in these conference calls and automatically group them into topics. Topic modeling is a means of extracting hidden topics from large volumes of text. One approach to doing this is called Latent Dirichlet Allocation (LDA). In this approach \n",
    "* documents that have similar words are considered to generally have the same topic, \n",
    "* documents are considered probability distributions over latent topics, and \n",
    "* topics are considered probability distributions over words. \n",
    "\n",
    "See for example https://www.machinelearningplus.com/nlp/topic-modeling-gensim-python/, https://en.wikipedia.org/wiki/Latent_Dirichlet_allocation, and https://stackabuse.com/python-for-nlp-topic-modeling/. \n",
    "\n",
    "`pyLDAavis` is a package in Python that makes visualization of LDA topics possible. You will not be asked to do these analyses, but we have run them for you. \n",
    "\n",
    "The ultimate goal in this case is to derive meaning in an efficient and effective way about what analysts are asking these companies. You have used two pieces--keywords and sentiment--to do that. Adding the topic modeling will add a third, helpful piece. Below we present results from LDA code that creates topics and displays the most probable topic for each row of the original DataFrame. Sample output from using 99 topics with 20 passes in the LDA model is shown below. Click the link, or copy the PNG file to the same directory/folder as this jupyter notebook if you can't see the graphic. You will see full results for several analysts from the companies you examined before. Specifically, the last column, the `topic` column, lists the topic number and that row’s weight for that topic. The topics are displayed under the picture with their respective topic numbers and the weight of each word in that topic. For example, the first topic shown, number 14, is mostly made up from the word “impact”, which receives a weight of 0.485. Other words that are in this topic are “currency”, and “fx”. Thus, this topic likely indicates that the analyst is asking about the impact of currency fluctuation and foreign currency exchange (FX). "
   ]
  },
  {
   "cell_type": "markdown",
   "metadata": {},
   "source": [
    "[https://uofi.box.com/v/sample-output-for-99-topics](https://uofi.box.com/v/sample-output-for-99-topics)"
   ]
  },
  {
   "cell_type": "markdown",
   "metadata": {},
   "source": [
    "<img src='Sample output for 99 topics.PNG'>"
   ]
  },
  {
   "cell_type": "markdown",
   "metadata": {},
   "source": [
    "Topics:\n",
    "* (14, '0.485*\"impact\" + 0.043*\"currency\" + 0.040*\"portion\" + 0.036*\"fx\" + 0.036*\"site\" + 0.026*\"conservative\" + 0.021*\"potential\" + 0.020*\"quick\" + 0.018*\"initially\" + 0.018*\"progressing\"')\n",
    "* (23, '0.536*\"growth\" + 0.057*\"organic\" + 0.030*\"build\" + 0.022*\"outlook\" + 0.021*\"frame\" + 0.020*\"season\" + 0.017*\"good\" + 0.016*\"grow\" + 0.016*\"continue\" + 0.014*\"expect\"')\n",
    "* (33, '0.484*\"quarter\" + 0.063*\"month\" + 0.030*\"expecting\" + 0.029*\"good\" + 0.023*\"couple\" + 0.020*\"guess\" + 0.019*\"pretty\" + 0.019*\"great\" + 0.018*\"expect\" + 0.017*\"gave\"')\n",
    "* (57, '0.504*\"revenue\" + 0.108*\"incremental\" + 0.039*\"meaningful\" + 0.038*\"answered\" + 0.034*\"perfect\" + 0.030*\"onetime\" + 0.029*\"include\" + 0.029*\"implies\" + 0.028*\"roll\" + 0.016*\"brought\"')\n",
    "* (59, '0.142*\"result\" + 0.137*\"demand\" + 0.108*\"positive\" + 0.082*\"earnings\" + 0.078*\"front\" + 0.069*\"negative\" + 0.048*\"continued\" + 0.041*\"challenge\" + 0.036*\"reported\" + 0.035*\"adjusted\"')\n",
    "* (69, '0.157*\"give\" + 0.116*\"color\" + 0.089*\"sense\" + 0.063*\"update\" + 0.052*\"plan\" + 0.042*\"provide\" + 0.039*\"bit\" + 0.038*\"program\" + 0.033*\"partner\" + 0.029*\"detail\"')\n",
    "* (80, '0.344*\"product\" + 0.060*\"quantify\" + 0.055*\"technology\" + 0.053*\"grow\" + 0.042*\"delivery\" + 0.037*\"infrastructure\" + 0.034*\"medium\" + 0.025*\"main\" + 0.020*\"versus\" + 0.019*\"access\"')\n",
    "* (98, '0.503*\"margin\" + 0.140*\"mix\" + 0.139*\"gross\" + 0.033*\"standpoint\" + 0.020*\"greater\" + 0.018*\"forward\" + 0.017*\"rent\" + 0.015*\"realized\" + 0.010*\"outlook\" + 0.010*\"continue\"')"
   ]
  },
  {
   "cell_type": "markdown",
   "metadata": {},
   "source": [
    "**Deliverable 14:**\n",
    "* (A) Write several sentences about the insights you gain from examining all three of these tools--keywords, sentiment, and LDA topics together. \n",
    "* (B) Finally, briefly discuss how could you improve any of the steps above to get better results."
   ]
  },
  {
   "cell_type": "markdown",
   "metadata": {},
   "source": [
    "#### Deliverable 14 Response:\n",
    "\n",
    "#### a) \n",
    "LDA is good for grouping large volumes of unlabeled data. It uses the underlying algorithm to separate and group text data based on the frequency or weight of different words. It can be used to isolate certain topics within the text for the reader to pinpoint specific areas of interest. Using this with the sentiment tool adds a layer of interpretation because based on the topic, negative sentiment could relay to the reader a broad result of performance. Also examining the frequency of the words used allows the user to gain insight on what was discussed. Based on these frequencies an investor or auditor familiar with the business could piece together both topics and overall results from those discussions. The keywords and sentiment tools enhance the LDA model and provide clarity as to why those topics are being discussed heavily. If there are positive keywords associated with it then it could be something the company is performing well in and would want to continue or if they are negative, longer discussions could be about addressing and analyzing the issue or trying to resolve it for the next quarter. \n",
    "\n",
    "#### b) \n",
    "Breaking down conversations further into categories could allow someone to sift through information to access it quicker. Examples of this could be questions that involve assessment of management or the handling of certain matters versus general questions about the company. Analysis can also be done to separate the financial matter questions from more subjective matters about the company or business structure. Addressing current matters of company performance versus things management addresses about where the company will be in the future and implementing new strategies could improve results.  \n"
   ]
  },
  {
   "cell_type": "markdown",
   "metadata": {},
   "source": [
    "# References\n",
    "The following sources were useful in the creation of this case:\n",
    "* Loughran, T. I. M., and B. McDonald. 2016. Textual Analysis in Accounting and Finance: A Survey. Journal of Accounting Research 54 (4):1187-1230\n",
    "* https://sraf.nd.edu/textual-analysis/resources/#LM%20Sentiment%20Word%20Lists\n",
    "* https://stackabuse.com/python-for-nlp-working-with-the-gensim-library-part-2/\n",
    "* https://radimrehurek.com/gensim/auto_examples/core/run_core_concepts.html\n",
    "* https://radimrehurek.com/gensim/auto_examples/core/run_topics_and_transformations.html#sphx-glr-auto-examples-core-run-topics-and-transformations-py\n",
    "* https://www.machinelearningplus.com/nlp/topic-modeling-gensim-python/\n",
    "* https://seekingalpha.com/"
   ]
  }
 ],
 "metadata": {
  "kernelspec": {
   "display_name": "Python 3",
   "language": "python",
   "name": "python3"
  },
  "language_info": {
   "codemirror_mode": {
    "name": "ipython",
    "version": 3
   },
   "file_extension": ".py",
   "mimetype": "text/x-python",
   "name": "python",
   "nbconvert_exporter": "python",
   "pygments_lexer": "ipython3",
   "version": "3.7.1"
  }
 },
 "nbformat": 4,
 "nbformat_minor": 4
}
